{
 "cells": [
  {
   "cell_type": "markdown",
   "metadata": {},
   "source": [
    "inner_link_article_title文章标题\n",
    "weui-desktop-vm_default文章url\n",
    "cookie: pgv_pvi=7493865472; RK=6KjtszjNdn; ptcz=3f3ce8d5f683d455b16c4aeac3b03caaf92d9c117e22ce6c41793ef66378ec35; pgv_pvid=8974182824; ua_id=yhh0LLy00ne0qcDEAAAAADreftY51hs9L3msAD6dDZ4=; mm_lang=zh_CN; ts_uid=8449156848; o_cookie=916478259; pac_uid=1_916478259; eas_sid=e1G5W7a9K8X431j5v5u7v2n8X3; noticeLoginFlag=1; tvfe_boss_uuid=0ce8acb84fc28b98; pgv_si=s9449214976; uin=o0916478259; skey=@QZ4qQTVZi; cert=Cvi7FKbAkzR_x6eXBOEmU8jbZ_rDi2qd; rewardsn=; wxtokenkey=777; pgv_info=ssid=s3260193600; uuid=155283af8f8f58cb2e89a0d9b64b9d97; ticket=02ba2aef7750424f4a35ea4b2cda8708c461aecb; ticket_id=gh_e0098361d780; rand_info=CAESIK33ZWfHVSUbSjJVHSiBt1aJH39KgdmIL1Ho9rXFW1W5; slave_bizuin=3588267896; data_bizuin=3256906126; bizuin=3588267896; data_ticket=afbb7V3rSZqj2IZQkntT4M98qxPXqH6Nvp3qjMFU2gVfbIACTKQ8+aSgT0KHpcyY; slave_sid=eFk5TURJUV9RcGNsWktmWnF6TnhjTkttMU1ISEloMDlyYmNBb0N6eDVLTVFqUHFXXzkwOFpFekcxT2V4bzFJM3lPUWZhQTJOOTdZOUtvc1AwX3FHbTVKb2pxb1pTWTEydkhxenRqWTZVa3JIWlF2bXVMdHN0VWNwWDVhRmdscTY1YnNqVWRzaEpndXhUdnFq; slave_user=gh_e0098361d780; xid=a75a0b874e785db45293671a3c6d19f1; openid2ticket_ojnEgwq36HE_QzcLEG7sV4KRta4M=NiP9kzgkvdNn7OT8hTT9XiUtq4hYJ6+sCsTfeUma3lg="
   ]
  },
  {
   "cell_type": "markdown",
   "metadata": {},
   "source": [
    "## 项目名称：爬取个人公众号情绪变动\n",
    "数据加值宣言：本项目是挖掘的订阅号“小心馆”的前5页，25篇左右的微信文章，对每一篇文章的title,link,time进行爬取与导出，分析关于个人公众号情绪的变化以作数据分析。\n",
    "\n",
    "数据最小可用产品\n",
    "MVP的数据加值：数据产品类型是数据输出，分析个人的情感需求，对关心的人进行细致的分析与情感的体悟，能够更理解他人的内心世界。\n",
    "\n",
    "挖掘微信公众号的基本信息\n",
    "订阅号设计竞赛网的前5页，25篇微信文章，对每一篇文章的title,link,time进行爬取与导出\n",
    "\n",
    "个人情感行业背景\n",
    "现代人的内心世界都十分孤独，在心理咨询等方面都大有可为。"
   ]
  },
  {
   "cell_type": "code",
   "execution_count": 1,
   "metadata": {},
   "outputs": [],
   "source": [
    "公众号='小心馆'\n",
    "fn = { \"output\" : { \"公众号_htm_snippets\": \"data_raw_src/公众号_htm_snippets_{公众号}.tsv\",\n",
    "                    \"公众号_df\": \"data_raw_src/公众号_df_{公众号}.tsv\",\n",
    "                    \"公众号_xlsx\": \"data_sets/公众号_url_{公众号}.xlsx\" } \\\n",
    "     }"
   ]
  },
  {
   "cell_type": "code",
   "execution_count": 4,
   "metadata": {},
   "outputs": [
    {
     "name": "stdout",
     "output_type": "stream",
     "text": [
      "0\n",
      "5\n",
      "10\n",
      "15\n",
      "20\n",
      "Wall time: 17.3 s\n"
     ]
    }
   ],
   "source": [
    "%%time\n",
    "from random import random\n",
    "import time\n",
    "import requests\n",
    "import pandas as pd\n",
    "import csv\n",
    "\n",
    "\n",
    "url = \"https://mp.weixin.qq.com/cgi-bin/appmsg\"\n",
    "\n",
    "# 使用Cookie，跳过登陆操作,注意每一次重新运行（重启服务）cookie,token值会不一样\n",
    "headers = {\n",
    "    \"Cookie\": \"pgv_pvi=7493865472; RK=6KjtszjNdn; ptcz=3f3ce8d5f683d455b16c4aeac3b03caaf92d9c117e22ce6c41793ef66378ec35; pgv_pvid=8974182824; ua_id=yhh0LLy00ne0qcDEAAAAADreftY51hs9L3msAD6dDZ4=; mm_lang=zh_CN; ts_uid=8449156848; o_cookie=916478259; pac_uid=1_916478259; eas_sid=e1G5W7a9K8X431j5v5u7v2n8X3; noticeLoginFlag=1; tvfe_boss_uuid=0ce8acb84fc28b98; pgv_si=s9449214976; uin=o0916478259; skey=@QZ4qQTVZi; cert=Cvi7FKbAkzR_x6eXBOEmU8jbZ_rDi2qd; rewardsn=; wxtokenkey=777; pgv_info=ssid=s3260193600; uuid=155283af8f8f58cb2e89a0d9b64b9d97; ticket=02ba2aef7750424f4a35ea4b2cda8708c461aecb; ticket_id=gh_e0098361d780; rand_info=CAESIK33ZWfHVSUbSjJVHSiBt1aJH39KgdmIL1Ho9rXFW1W5; slave_bizuin=3588267896; data_bizuin=3256906126; bizuin=3588267896; data_ticket=afbb7V3rSZqj2IZQkntT4M98qxPXqH6Nvp3qjMFU2gVfbIACTKQ8+aSgT0KHpcyY; slave_sid=eFk5TURJUV9RcGNsWktmWnF6TnhjTkttMU1ISEloMDlyYmNBb0N6eDVLTVFqUHFXXzkwOFpFekcxT2V4bzFJM3lPUWZhQTJOOTdZOUtvc1AwX3FHbTVKb2pxb1pTWTEydkhxenRqWTZVa3JIWlF2bXVMdHN0VWNwWDVhRmdscTY1YnNqVWRzaEpndXhUdnFq; slave_user=gh_e0098361d780; xid=a75a0b874e785db45293671a3c6d19f1; openid2ticket_ojnEgwq36HE_QzcLEG7sV4KRta4M=NiP9kzgkvdNn7OT8hTT9XiUtq4hYJ6+sCsTfeUma3lg=\",\n",
    "  \"User-Agent\": \"Mozilla/5.0 (Windows NT 10.0; Win64; x64) AppleWebKit/537.36 (KHTML, like Gecko) Chrome/81.0.4044.138 Safari/537.36\" }\n",
    "\n",
    "data = {\n",
    "    \"token\": \"1508050466\",\n",
    "    \"lang\": \"zh_CN\",\n",
    "    \"f\": \"json\",\n",
    "    \"ajax\": \"1\",\n",
    "    \"action\": \"list_ex\",\n",
    "    \"begin\": \"0\",\n",
    "    \"count\": \"5\",\n",
    "    \"query\": \"\",\n",
    "    \"fakeid\": \"MzI4MDU3Njk4MA==\",\n",
    "    \"type\": \"9\",\n",
    "}\n",
    "\n",
    "\n",
    "\n",
    "content_list=[]\n",
    "\n",
    "for i in range(5):\n",
    "    data[\"begin\"] = i*5\n",
    "    print(data[\"begin\"])\n",
    "    time.sleep(3)\n",
    "    # 使用get方法进行提交\n",
    "    content_json = requests.get(url, headers=headers, params=data).json()\n",
    "#     print(content_json)\n",
    "    # 返回了一个json，里面是每一页的数据\n",
    "    for item in content_json[\"app_msg_list\"]:\n",
    "    # 提取每页文章的标题及对应的url\n",
    "        items = []\n",
    "        items.append(item[\"title\"])\n",
    "        items.append(item[\"link\"])\n",
    "        items.append(item[\"create_time\"])\n",
    "        content_list.append(items)\n",
    "\n",
    "\n",
    "name=['title','link','create_time']\n",
    "test=pd.DataFrame(columns=name,data=content_list)\n",
    "with pd.ExcelWriter(fn[\"output\"][\"公众号_xlsx\"].format(公众号=\"小心馆_requests\")) as writer:\n",
    "    test.to_excel(writer)\n",
    "\n",
    "# test.to_csv(\"../微信公众号爬虫_zhichao/南方周末.csv\",mode='a',encoding='utf-8')\n",
    "# print(\"保存成功\")"
   ]
  },
  {
   "cell_type": "code",
   "execution_count": 5,
   "metadata": {},
   "outputs": [],
   "source": [
    "import pandas as pd\n",
    "import numpy as np\n",
    "from lxml.html import fromstring\n",
    "import time\n",
    "from random import random\n",
    "\n",
    "# when selenium main_content is used\n",
    "# Parses an HTML document from a string constant.  Returns the root nood\n",
    "# root = fromstring(df.loc[1,\"html_snippets\"]) "
   ]
  },
  {
   "cell_type": "code",
   "execution_count": 6,
   "metadata": {},
   "outputs": [
    {
     "name": "stdout",
     "output_type": "stream",
     "text": [
      "Requirement already satisfied: selenium in c:\\programdata\\anaconda3\\lib\\site-packages (3.141.0)\n",
      "Requirement already satisfied: urllib3 in c:\\programdata\\anaconda3\\lib\\site-packages (from selenium) (1.25.8)\n",
      "Note: you may need to restart the kernel to use updated packages.\n"
     ]
    }
   ],
   "source": [
    "pip install selenium"
   ]
  },
  {
   "cell_type": "code",
   "execution_count": 17,
   "metadata": {},
   "outputs": [
    {
     "name": "stderr",
     "output_type": "stream",
     "text": [
      "C:\\ProgramData\\Anaconda3\\lib\\site-packages\\ipykernel_launcher.py:18: DeprecationWarning: use options instead of chrome_options\n"
     ]
    }
   ],
   "source": [
    "from selenium import webdriver\n",
    "from selenium.webdriver.common.desired_capabilities import DesiredCapabilities\n",
    "\n",
    "#caps=dict()\n",
    "#caps[\"pageLoadStrategy\"] = \"none\"   # Do not wait for full page load\n",
    "\n",
    "opts = webdriver.ChromeOptions()\n",
    "opts.add_argument('--no-sandbox')#解决DevToolsActivePort文件不存在的报错\n",
    "opts.add_argument('window-size=1920x3000') #指定浏览器分辨率\n",
    "opts.add_argument('--disable-gpu') #谷歌文档提到需要加上一这个属性来规避bug\n",
    "opts.add_argument('--hide-scrollbars') #隐藏滚动条, 应对些特殊页面\n",
    "#opts.add_argument('blink-settings=imagesEnabled=false') #不加载图片, 提升速度\n",
    "#opts.add_argument('--headless') #浏览器不提供可视化页面. linux下如果系统不支持可视化不加这条会启动失败\n",
    "\n",
    "opts.binary_location = r\"C:\\Program Files (x86)\\Google\\Chrome\\Application\\chrome.exe\" #\"H:\\_coding_\\Gitee\\InternetNewMedia\\CapstonePrj2016\\chromedriver.exe\"  \n",
    "\n",
    "# \"H:\\_coding_\\Gitee\\InternetNewMedia\\CapstonePrj2016\\chromedriver.exe\"  \n",
    "driver = webdriver.Chrome( chrome_options = opts) #desired_capabilities=caps,"
   ]
  },
  {
   "cell_type": "code",
   "execution_count": 18,
   "metadata": {},
   "outputs": [],
   "source": [
    "driver.get(\"https://mp.weixin.qq.com\")"
   ]
  },
  {
   "cell_type": "code",
   "execution_count": 19,
   "metadata": {},
   "outputs": [],
   "source": [
    "payload =  {\"account\": \"916478259@qq.com\", \"password\": \"sun164253\"}\n",
    "# payload =  {\"account\": \"NFUHacks@163.com\", \"password\": \"NFU706947580\"}\n",
    "driver.find_element_by_xpath('//div[@class=\"login__type__container login__type__container__scan\"]/a').click()"
   ]
  },
  {
   "cell_type": "code",
   "execution_count": 20,
   "metadata": {},
   "outputs": [],
   "source": [
    "driver.find_element_by_xpath('//form[@class=\"login_form\"]//input[@name=\"account\"]').clear()\n",
    "driver.find_element_by_xpath('//form[@class=\"login_form\"]//input[@name=\"account\"]').send_keys(payload['account'])\n",
    "driver.find_element_by_xpath('//form[@class=\"login_form\"]//input[@name=\"password\"]').clear()\n",
    "driver.find_element_by_xpath('//form[@class=\"login_form\"]//input[@name=\"password\"]').send_keys(payload['password'])"
   ]
  },
  {
   "cell_type": "code",
   "execution_count": 21,
   "metadata": {},
   "outputs": [],
   "source": [
    "driver.find_element_by_xpath('//div[@class=\"login_btn_panel\"]/a').click()"
   ]
  },
  {
   "cell_type": "code",
   "execution_count": 22,
   "metadata": {},
   "outputs": [
    {
     "data": {
      "text/plain": [
       "'展开'"
      ]
     },
     "execution_count": 22,
     "metadata": {},
     "output_type": "execute_result"
    }
   ],
   "source": [
    "element = driver.find_element_by_xpath('//a[@id=\"m_open\"]')\n",
    "element.click()\n",
    "main_content = element.get_attribute('innerHTML')\n",
    "main_content"
   ]
  },
  {
   "cell_type": "code",
   "execution_count": 23,
   "metadata": {},
   "outputs": [],
   "source": [
    "driver.execute_script(\"window.scrollTo(0,document.body.scrollHeight)\")"
   ]
  },
  {
   "cell_type": "code",
   "execution_count": 24,
   "metadata": {},
   "outputs": [
    {
     "data": {
      "text/plain": [
       "'https://mp.weixin.qq.com/cgi-bin/appmsg?begin=0&count=10&t=media/appmsg_list&type=10&action=list&token=531807738&lang=zh_CN'"
      ]
     },
     "execution_count": 24,
     "metadata": {},
     "output_type": "execute_result"
    }
   ],
   "source": [
    "element = driver.find_element_by_xpath('//li[@title[contains(.,\"素材管理\")]]/a') \n",
    "# main_content = element.get_attribute('innerHTML')\n",
    "# main_content\n",
    "url2= element.get_attribute(\"href\")\n",
    "url2"
   ]
  },
  {
   "cell_type": "code",
   "execution_count": 25,
   "metadata": {},
   "outputs": [],
   "source": [
    "driver.get(url2)"
   ]
  },
  {
   "cell_type": "code",
   "execution_count": 26,
   "metadata": {},
   "outputs": [],
   "source": [
    "element = driver.find_element_by_xpath('//*[text()[contains(.,\"新建图文消息\")]]') \n",
    "main_content = element.get_attribute('innerHTML')\n",
    "main_content\n",
    "element.click()"
   ]
  },
  {
   "cell_type": "code",
   "execution_count": 27,
   "metadata": {},
   "outputs": [
    {
     "name": "stdout",
     "output_type": "stream",
     "text": [
      "['CDwindow-B1CBC5DBEB8CD3C3C3D4EC61837FB034', 'CDwindow-F8D1FD6FDE20BCF07F1D6CCD9E710EEA']\n"
     ]
    }
   ],
   "source": [
    "print (driver.window_handles)"
   ]
  },
  {
   "cell_type": "code",
   "execution_count": 28,
   "metadata": {},
   "outputs": [],
   "source": [
    "# 新建图文消息开了另一分视窗，所以要切换 switch_to \n",
    "driver.switch_to.window(driver.window_handles[-1])"
   ]
  },
  {
   "cell_type": "markdown",
   "metadata": {},
   "source": [
    "element = driver.find_element_by_xpath('//*[text()[contains(.,\"超链接\")]]') \n",
    "main_content = element.get_attribute('innerHTML')\n",
    "print(main_content)\n",
    "element.click()"
   ]
  },
  {
   "cell_type": "code",
   "execution_count": 29,
   "metadata": {},
   "outputs": [
    {
     "name": "stdout",
     "output_type": "stream",
     "text": [
      "                超链接              \n"
     ]
    }
   ],
   "source": [
    "element = driver.find_element_by_xpath('//*[text()[contains(.,\"超链接\")]]') \n",
    "main_content = element.get_attribute('innerHTML')\n",
    "print(main_content)\n",
    "element.click()"
   ]
  },
  {
   "cell_type": "code",
   "execution_count": 30,
   "metadata": {},
   "outputs": [
    {
     "name": "stdout",
     "output_type": "stream",
     "text": [
      "选择其他公众号\n"
     ]
    }
   ],
   "source": [
    "# 点 选择其他公众号\n",
    "element = driver.find_element_by_xpath('//*[text()[contains(.,\"选择其他公众号\")]]') \n",
    "main_content = element.get_attribute('innerHTML')\n",
    "print(main_content)\n",
    "element.click()"
   ]
  },
  {
   "cell_type": "code",
   "execution_count": 31,
   "metadata": {},
   "outputs": [],
   "source": [
    "driver.find_element_by_xpath('//form//div[@class=\"inner_link_account_area\"]//input[@class=\"weui-desktop-form__input\"]').clear()\n",
    "driver.find_element_by_xpath('//form//div[@class=\"inner_link_account_area\"]//input[@class=\"weui-desktop-form__input\"]').send_keys(公众号)"
   ]
  },
  {
   "cell_type": "code",
   "execution_count": 32,
   "metadata": {},
   "outputs": [
    {
     "name": "stdout",
     "output_type": "stream",
     "text": [
      "<div class=\"weui-desktop-icon weui-desktop-icon__inputSearch weui-desktop-icon__small\"><!----> <!----> <!----> <!----> <!----> <!----> <!----> <!----> <!----> <!----> <!----> <!----> <!----> <!----> <!----> <!----> <!----> <!----> <!----> <!----> <!----> <!----> <!----> <!----> <!----> <!----> <!----> <!----> <!----> <!----> <!----> <!----> <!----> <!----> <!----> <!----> <!----> <!----> <!----> <!----> <!----> <!----> <!----> <!----> <!----> <!----> <!----> <!----> <!----> <!----> <!----> <!----> <!----> <!----> <svg width=\"16\" height=\"16\" viewBox=\"0 0 16 16\" xmlns=\"http://www.w3.org/2000/svg\"><path d=\"M11.33 10.007l4.273 4.273a.502.502 0 0 1 .005.709l-.585.584a.499.499 0 0 1-.709-.004L10.046 11.3a6.278 6.278 0 1 1 1.284-1.294zm.012-3.729a5.063 5.063 0 1 0-10.127 0 5.063 5.063 0 0 0 10.127 0z\"></path></svg> <!----> <!----> <!----> <!----></div>\n"
     ]
    }
   ],
   "source": [
    "# 点放大镜搜\n",
    "element = driver.find_element_by_xpath('//button[@class=\"weui-desktop-icon-btn weui-desktop-search__btn\"]')\n",
    "main_content = element.get_attribute('innerHTML')\n",
    "print(main_content)\n",
    "element.click()"
   ]
  },
  {
   "cell_type": "code",
   "execution_count": 33,
   "metadata": {},
   "outputs": [
    {
     "name": "stdout",
     "output_type": "stream",
     "text": [
      "<li class=\"inner_link_account_item\"><div class=\"weui-desktop-vm_primary\"><img src=\"http://mmbiz.qpic.cn/mmbiz_png/KZb0tcHvn8LMoK92z8RCd0ZT3wypiaJM9WgYH6iaUGrGhpXFNWlTxG3n38hx0M6fbaUXFGzd1kXrI4ib10vxACOTw/0?wx_fmt=png\" class=\"inner_link_account_avatar\"> <strong class=\"inner_link_account_nickname\">小心馆</strong> <i class=\"inner_link_account_wechat\">微信号：thesleepingmimi</i></div> <div class=\"weui-desktop-vm_default inner_link_account_type\">订阅号</div></li><li class=\"inner_link_account_item\"><div class=\"weui-desktop-vm_primary\"><img src=\"http://mmbiz.qpic.cn/mmbiz_png/1eEIthWG0GDlibazib84ntvXuSqXCGVjicMXRSK0xs7VgCuyOOxI6BNkhBSSYDrHdK1mWzD0m5PJWlriaud3exhxxA/0?wx_fmt=png\" class=\"inner_link_account_avatar\"> <strong class=\"inner_link_account_nickname\">小心鸡生活馆</strong> <i class=\"inner_link_account_wechat\">微信号：xxj-life</i></div> <div class=\"weui-desktop-vm_default inner_link_account_type\">服务号</div></li><li class=\"inner_link_account_item\"><div class=\"weui-desktop-vm_primary\"><img src=\"http://mmbiz.qpic.cn/mmbiz_png/mO2txwdcmJvQQ2OBxavvlzkaVyggrU3wNIzibSNGQjOicFflQvUl9TWMpNE8Mibb1iad62yOk3TIUN3mI1xErsK3LQ/0?wx_fmt=png\" class=\"inner_link_account_avatar\"> <strong class=\"inner_link_account_nickname\">领事直通车</strong> <i class=\"inner_link_account_wechat\">微信号：ls12308</i></div> <div class=\"weui-desktop-vm_default inner_link_account_type\">订阅号</div></li><li class=\"inner_link_account_item\"><div class=\"weui-desktop-vm_primary\"><img src=\"http://mmbiz.qpic.cn/mmbiz_png/jqMQOia3UHEicU1hoC2ibJKCsUFCKTSLYpd2MJib5HTTT6bibTf9XpVMtO7EvXktnsP1vK8SGw1eK0icnEnH6HwkVgAg/0?wx_fmt=png\" class=\"inner_link_account_avatar\"> <strong class=\"inner_link_account_nickname\">康富来国医馆中医门诊部</strong> <i class=\"inner_link_account_wechat\">微信号：kfl-gyg</i></div> <div class=\"weui-desktop-vm_default inner_link_account_type\">服务号</div></li><li class=\"inner_link_account_item\"><div class=\"weui-desktop-vm_primary\"><img src=\"http://mmbiz.qpic.cn/mmbiz_png/TfFhLesmyiabta3BkuKF8Dq8iaVybiae7zDedEJBV9SyglW3bTtn24D8Cca2LicfnKpaib7uiaokWq0nCsCFBQfccNMw/0?wx_fmt=png\" class=\"inner_link_account_avatar\"> <strong class=\"inner_link_account_nickname\">安溪悦泉行馆EliteSpringVillas</strong> <i class=\"inner_link_account_wechat\">微信号：yqxg0595-26166666</i></div> <div class=\"weui-desktop-vm_default inner_link_account_type\">服务号</div></li>\n"
     ]
    }
   ],
   "source": [
    "element = driver.find_element_by_xpath('//ul[@class=\"inner_link_account_list\"]')\n",
    "main_content = element.get_attribute('innerHTML')\n",
    "print(main_content)\n",
    "公众号SERP = main_content\n"
   ]
  },
  {
   "cell_type": "code",
   "execution_count": 34,
   "metadata": {},
   "outputs": [],
   "source": [
    "# 解析\n",
    "root = fromstring(公众号SERP) "
   ]
  },
  {
   "cell_type": "code",
   "execution_count": 35,
   "metadata": {},
   "outputs": [],
   "source": [
    "主 = root.xpath('//li[@class=\"inner_link_account_item\"]')\n",
    "\n",
    "account_list = []\n",
    "for e in 主:\n",
    "    account_nickname = e.xpath('./div/strong[@class=\"inner_link_account_nickname\"]')[0].text\n",
    "    account_wechat = e.xpath('./div/i[@class=\"inner_link_account_wechat\"]')[0].text\n",
    "    account_img = e.xpath('./div/img/@src')[0]\n",
    "    account = {\"nickname\": account_nickname, \"wechat\": account_wechat, \"img\": account_img,}\n",
    "    account_list.append(account)\n",
    "\n",
    "df_account = pd.DataFrame(account_list)"
   ]
  },
  {
   "cell_type": "code",
   "execution_count": 36,
   "metadata": {},
   "outputs": [
    {
     "data": {
      "text/html": [
       "<div>\n",
       "<style scoped>\n",
       "    .dataframe tbody tr th:only-of-type {\n",
       "        vertical-align: middle;\n",
       "    }\n",
       "\n",
       "    .dataframe tbody tr th {\n",
       "        vertical-align: top;\n",
       "    }\n",
       "\n",
       "    .dataframe thead th {\n",
       "        text-align: right;\n",
       "    }\n",
       "</style>\n",
       "<table border=\"1\" class=\"dataframe\">\n",
       "  <thead>\n",
       "    <tr style=\"text-align: right;\">\n",
       "      <th></th>\n",
       "      <th>nickname</th>\n",
       "      <th>wechat</th>\n",
       "      <th>img</th>\n",
       "    </tr>\n",
       "  </thead>\n",
       "  <tbody>\n",
       "    <tr>\n",
       "      <th>0</th>\n",
       "      <td>小心馆</td>\n",
       "      <td>微信号：thesleepingmimi</td>\n",
       "      <td>http://mmbiz.qpic.cn/mmbiz_png/KZb0tcHvn8LMoK9...</td>\n",
       "    </tr>\n",
       "    <tr>\n",
       "      <th>1</th>\n",
       "      <td>小心鸡生活馆</td>\n",
       "      <td>微信号：xxj-life</td>\n",
       "      <td>http://mmbiz.qpic.cn/mmbiz_png/1eEIthWG0GDliba...</td>\n",
       "    </tr>\n",
       "    <tr>\n",
       "      <th>2</th>\n",
       "      <td>领事直通车</td>\n",
       "      <td>微信号：ls12308</td>\n",
       "      <td>http://mmbiz.qpic.cn/mmbiz_png/mO2txwdcmJvQQ2O...</td>\n",
       "    </tr>\n",
       "    <tr>\n",
       "      <th>3</th>\n",
       "      <td>康富来国医馆中医门诊部</td>\n",
       "      <td>微信号：kfl-gyg</td>\n",
       "      <td>http://mmbiz.qpic.cn/mmbiz_png/jqMQOia3UHEicU1...</td>\n",
       "    </tr>\n",
       "    <tr>\n",
       "      <th>4</th>\n",
       "      <td>安溪悦泉行馆EliteSpringVillas</td>\n",
       "      <td>微信号：yqxg0595-26166666</td>\n",
       "      <td>http://mmbiz.qpic.cn/mmbiz_png/TfFhLesmyiabta3...</td>\n",
       "    </tr>\n",
       "  </tbody>\n",
       "</table>\n",
       "</div>"
      ],
      "text/plain": [
       "                  nickname                 wechat  \\\n",
       "0                      小心馆    微信号：thesleepingmimi   \n",
       "1                   小心鸡生活馆           微信号：xxj-life   \n",
       "2                    领事直通车            微信号：ls12308   \n",
       "3              康富来国医馆中医门诊部            微信号：kfl-gyg   \n",
       "4  安溪悦泉行馆EliteSpringVillas  微信号：yqxg0595-26166666   \n",
       "\n",
       "                                                 img  \n",
       "0  http://mmbiz.qpic.cn/mmbiz_png/KZb0tcHvn8LMoK9...  \n",
       "1  http://mmbiz.qpic.cn/mmbiz_png/1eEIthWG0GDliba...  \n",
       "2  http://mmbiz.qpic.cn/mmbiz_png/mO2txwdcmJvQQ2O...  \n",
       "3  http://mmbiz.qpic.cn/mmbiz_png/jqMQOia3UHEicU1...  \n",
       "4  http://mmbiz.qpic.cn/mmbiz_png/TfFhLesmyiabta3...  "
      ]
     },
     "execution_count": 36,
     "metadata": {},
     "output_type": "execute_result"
    }
   ],
   "source": [
    "df_account"
   ]
  },
  {
   "cell_type": "code",
   "execution_count": 37,
   "metadata": {},
   "outputs": [
    {
     "name": "stdout",
     "output_type": "stream",
     "text": [
      "<div class=\"weui-desktop-vm_primary\"><img src=\"http://mmbiz.qpic.cn/mmbiz_png/KZb0tcHvn8LMoK92z8RCd0ZT3wypiaJM9WgYH6iaUGrGhpXFNWlTxG3n38hx0M6fbaUXFGzd1kXrI4ib10vxACOTw/0?wx_fmt=png\" class=\"inner_link_account_avatar\"> <strong class=\"inner_link_account_nickname\">小心馆</strong> <i class=\"inner_link_account_wechat\">微信号：thesleepingmimi</i></div> <div class=\"weui-desktop-vm_default inner_link_account_type\">订阅号</div>\n"
     ]
    }
   ],
   "source": [
    "element = driver.find_element_by_xpath('//ul[@class=\"inner_link_account_list\"]/li')\n",
    "main_content = element.get_attribute('innerHTML')\n",
    "print(main_content)\n",
    "element.click()"
   ]
  },
  {
   "cell_type": "code",
   "execution_count": 38,
   "metadata": {},
   "outputs": [
    {
     "data": {
      "text/plain": [
       "'\\n跳转_input = driver.find_element_by_xpath(\\'//span[@class=\"weui-desktop-pagination__form\"]/input\\')\\n跳转_a = driver.find_element_by_xpath(\\'//span[@class=\"weui-desktop-pagination__form\"]/a\\')\\n跳转_input.clear()\\n跳转_input.send_keys(2)\\n跳转_a.click()\\n'"
      ]
     },
     "execution_count": 38,
     "metadata": {},
     "output_type": "execute_result"
    }
   ],
   "source": [
    "# 跳转testing\n",
    "'''\n",
    "跳转_input = driver.find_element_by_xpath('//span[@class=\"weui-desktop-pagination__form\"]/input')\n",
    "跳转_a = driver.find_element_by_xpath('//span[@class=\"weui-desktop-pagination__form\"]/a')\n",
    "跳转_input.clear()\n",
    "跳转_input.send_keys(2)\n",
    "跳转_a.click()\n",
    "'''"
   ]
  },
  {
   "cell_type": "code",
   "execution_count": 39,
   "metadata": {},
   "outputs": [
    {
     "name": "stdout",
     "output_type": "stream",
     "text": [
      "[1, 5]\n",
      "False\n"
     ]
    }
   ],
   "source": [
    "# 跳转上限\n",
    "l_e = driver.find_elements_by_xpath('//label[@class=\"weui-desktop-pagination__num\"]')\n",
    "l_e_int  = [int(x.text) for x in l_e] \n",
    "print (l_e_int)\n",
    "print (l_e_int[0]==l_e_int[-1])"
   ]
  },
  {
   "cell_type": "code",
   "execution_count": 40,
   "metadata": {},
   "outputs": [
    {
     "name": "stdout",
     "output_type": "stream",
     "text": [
      "[1, 2, 3, 4, 5]\n"
     ]
    }
   ],
   "source": [
    "pages = list(range(l_e_int[0],l_e_int[-1]+1 ))\n",
    "#print(pages[0:2])\n",
    "pages = list(range(1,l_e_int[-1]+1 ))\n",
    "print(pages)"
   ]
  },
  {
   "cell_type": "markdown",
   "metadata": {},
   "source": [
    "循环遍历"
   ]
  },
  {
   "cell_type": "code",
   "execution_count": 41,
   "metadata": {},
   "outputs": [],
   "source": [
    "# global varialbes \n",
    "html_raw = dict()\n",
    "main_content =\"\"\n",
    "element = None"
   ]
  },
  {
   "cell_type": "code",
   "execution_count": 42,
   "metadata": {},
   "outputs": [],
   "source": [
    "def process_pages (pages):\n",
    "    for p in pages:\n",
    "        print (p,end='\\t')\n",
    "\n",
    "        跳转_input = driver.find_element_by_xpath('//span[@class=\"weui-desktop-pagination__form\"]/input')\n",
    "        跳转_a = driver.find_element_by_xpath('//span[@class=\"weui-desktop-pagination__form\"]/a')\n",
    "        跳转_input.clear()\n",
    "        跳转_input.send_keys(p)\n",
    "        跳转_a.click()\n",
    "\n",
    "        time.sleep(45+120*random())\n",
    "\n",
    "        element = driver.find_element_by_xpath('//div[@class=\"inner_link_article_list\"]')\n",
    "        main_content = element.get_attribute('innerHTML')\n",
    "        #print(main_content)\n",
    "        html_raw[p] = main_content"
   ]
  },
  {
   "cell_type": "code",
   "execution_count": 43,
   "metadata": {},
   "outputs": [
    {
     "name": "stdout",
     "output_type": "stream",
     "text": [
      "1\t2\t3\t4\t5\t"
     ]
    }
   ],
   "source": [
    "process_pages(pages)"
   ]
  },
  {
   "cell_type": "code",
   "execution_count": 46,
   "metadata": {},
   "outputs": [
    {
     "data": {
      "text/html": [
       "<div>\n",
       "<style scoped>\n",
       "    .dataframe tbody tr th:only-of-type {\n",
       "        vertical-align: middle;\n",
       "    }\n",
       "\n",
       "    .dataframe tbody tr th {\n",
       "        vertical-align: top;\n",
       "    }\n",
       "\n",
       "    .dataframe thead th {\n",
       "        text-align: right;\n",
       "    }\n",
       "</style>\n",
       "<table border=\"1\" class=\"dataframe\">\n",
       "  <thead>\n",
       "    <tr style=\"text-align: right;\">\n",
       "      <th></th>\n",
       "      <th>html_snippets</th>\n",
       "    </tr>\n",
       "  </thead>\n",
       "  <tbody>\n",
       "    <tr>\n",
       "      <th>1</th>\n",
       "      <td>&lt;div&gt;&lt;label class=\"inner_link_article_item\"&gt;&lt;s...</td>\n",
       "    </tr>\n",
       "    <tr>\n",
       "      <th>2</th>\n",
       "      <td>&lt;div&gt;&lt;label class=\"inner_link_article_item\"&gt;&lt;s...</td>\n",
       "    </tr>\n",
       "    <tr>\n",
       "      <th>3</th>\n",
       "      <td>&lt;div&gt;&lt;label class=\"inner_link_article_item\"&gt;&lt;s...</td>\n",
       "    </tr>\n",
       "    <tr>\n",
       "      <th>4</th>\n",
       "      <td>&lt;div&gt;&lt;label class=\"inner_link_article_item\"&gt;&lt;s...</td>\n",
       "    </tr>\n",
       "    <tr>\n",
       "      <th>5</th>\n",
       "      <td>&lt;div&gt;&lt;label class=\"inner_link_article_item\"&gt;&lt;s...</td>\n",
       "    </tr>\n",
       "  </tbody>\n",
       "</table>\n",
       "</div>"
      ],
      "text/plain": [
       "                                       html_snippets\n",
       "1  <div><label class=\"inner_link_article_item\"><s...\n",
       "2  <div><label class=\"inner_link_article_item\"><s...\n",
       "3  <div><label class=\"inner_link_article_item\"><s...\n",
       "4  <div><label class=\"inner_link_article_item\"><s...\n",
       "5  <div><label class=\"inner_link_article_item\"><s..."
      ]
     },
     "execution_count": 46,
     "metadata": {},
     "output_type": "execute_result"
    }
   ],
   "source": [
    "df = pd.DataFrame([html_raw]).T\n",
    "df.columns = [\"html_snippets\"]\n",
    "df"
   ]
  },
  {
   "cell_type": "code",
   "execution_count": 47,
   "metadata": {},
   "outputs": [
    {
     "name": "stdout",
     "output_type": "stream",
     "text": [
      "Stored 'html_raw' (dict)\n"
     ]
    }
   ],
   "source": [
    "%store html_raw\n",
    "import pickle \n",
    "filehandler = open(\"html_raw\", 'wb') \n",
    "pickle.dump(html_raw, filehandler)"
   ]
  },
  {
   "cell_type": "code",
   "execution_count": 48,
   "metadata": {},
   "outputs": [
    {
     "name": "stdout",
     "output_type": "stream",
     "text": [
      "4\n"
     ]
    },
    {
     "data": {
      "text/html": [
       "<div>\n",
       "<style scoped>\n",
       "    .dataframe tbody tr th:only-of-type {\n",
       "        vertical-align: middle;\n",
       "    }\n",
       "\n",
       "    .dataframe tbody tr th {\n",
       "        vertical-align: top;\n",
       "    }\n",
       "\n",
       "    .dataframe thead th {\n",
       "        text-align: right;\n",
       "    }\n",
       "</style>\n",
       "<table border=\"1\" class=\"dataframe\">\n",
       "  <thead>\n",
       "    <tr style=\"text-align: right;\">\n",
       "      <th></th>\n",
       "      <th>html_snippets</th>\n",
       "    </tr>\n",
       "  </thead>\n",
       "  <tbody>\n",
       "    <tr>\n",
       "      <th>5</th>\n",
       "      <td>&lt;div&gt;&lt;label class=\"inner_link_article_item\"&gt;&lt;s...</td>\n",
       "    </tr>\n",
       "  </tbody>\n",
       "</table>\n",
       "</div>"
      ],
      "text/plain": [
       "                                       html_snippets\n",
       "5  <div><label class=\"inner_link_article_item\"><s..."
      ]
     },
     "execution_count": 48,
     "metadata": {},
     "output_type": "execute_result"
    }
   ],
   "source": [
    "df_out = df[~df.duplicated()]\n",
    "print (len(df_out))\n",
    "df[df.duplicated()]"
   ]
  },
  {
   "cell_type": "code",
   "execution_count": 49,
   "metadata": {},
   "outputs": [
    {
     "name": "stdout",
     "output_type": "stream",
     "text": [
      "[5]\n"
     ]
    },
    {
     "data": {
      "text/plain": [
       "[5]"
      ]
     },
     "execution_count": 49,
     "metadata": {},
     "output_type": "execute_result"
    }
   ],
   "source": [
    "try_again = list(df[df.duplicated()].index)\n",
    "print(try_again)\n",
    "try_again = try_again + list (set(pages).difference(set(df.index.values)))\n",
    "try_again"
   ]
  },
  {
   "cell_type": "code",
   "execution_count": 50,
   "metadata": {},
   "outputs": [],
   "source": [
    "filename = fn [\"output\"] [\"公众号_htm_snippets\"] \n",
    "df_out.to_csv(filename.format(公众号=公众号), sep=\"\\t\", encoding=\"utf8\")"
   ]
  },
  {
   "cell_type": "code",
   "execution_count": 51,
   "metadata": {},
   "outputs": [
    {
     "name": "stdout",
     "output_type": "stream",
     "text": [
      "2,5,5,5,2,"
     ]
    }
   ],
   "source": [
    "def parse_html_snippets(_snippet_):\n",
    "    root = fromstring(_snippet_) \n",
    "    title = [x.text for x in root.xpath('//div[@class=\"inner_link_article_title\"]')]\n",
    "    create_time = [x.text for x in root.xpath('//div[@class=\"inner_link_article_date\"]')]\n",
    "    link = [x for x in root.xpath('//a/@href')]\n",
    "    _df_ = pd.DataFrame({\"title\":title, \"create_time\": create_time, \"link\":link})\n",
    "    return(_df_)\n",
    "    \n",
    "l_df = []\n",
    "for p in pages:\n",
    "    _df_ = parse_html_snippets(df.loc[p,\"html_snippets\"])\n",
    "    print (len(_df_), end=\",\")\n",
    "    l_df.append(_df_)"
   ]
  },
  {
   "cell_type": "code",
   "execution_count": 52,
   "metadata": {},
   "outputs": [
    {
     "data": {
      "text/html": [
       "<div>\n",
       "<style scoped>\n",
       "    .dataframe tbody tr th:only-of-type {\n",
       "        vertical-align: middle;\n",
       "    }\n",
       "\n",
       "    .dataframe tbody tr th {\n",
       "        vertical-align: top;\n",
       "    }\n",
       "\n",
       "    .dataframe thead th {\n",
       "        text-align: right;\n",
       "    }\n",
       "</style>\n",
       "<table border=\"1\" class=\"dataframe\">\n",
       "  <thead>\n",
       "    <tr style=\"text-align: right;\">\n",
       "      <th></th>\n",
       "      <th>title</th>\n",
       "      <th>create_time</th>\n",
       "      <th>link</th>\n",
       "    </tr>\n",
       "  </thead>\n",
       "  <tbody>\n",
       "    <tr>\n",
       "      <th>0</th>\n",
       "      <td>什么？XX学校居然放假了？</td>\n",
       "      <td>2017-10-15</td>\n",
       "      <td>http://mp.weixin.qq.com/s?__biz=MzU4ODI2Nzg5Ng...</td>\n",
       "    </tr>\n",
       "    <tr>\n",
       "      <th>1</th>\n",
       "      <td>与你相遇，好幸运</td>\n",
       "      <td>2017-10-04</td>\n",
       "      <td>http://mp.weixin.qq.com/s?__biz=MzU4ODI2Nzg5Ng...</td>\n",
       "    </tr>\n",
       "    <tr>\n",
       "      <th>2</th>\n",
       "      <td>网新练习生</td>\n",
       "      <td>2019-05-17</td>\n",
       "      <td>http://mp.weixin.qq.com/s?__biz=MzU4ODI2Nzg5Ng...</td>\n",
       "    </tr>\n",
       "    <tr>\n",
       "      <th>3</th>\n",
       "      <td>我想你了。</td>\n",
       "      <td>2019-05-15</td>\n",
       "      <td>http://mp.weixin.qq.com/s?__biz=MzU4ODI2Nzg5Ng...</td>\n",
       "    </tr>\n",
       "    <tr>\n",
       "      <th>4</th>\n",
       "      <td>三毛时光，只剩下三根毛的时光</td>\n",
       "      <td>2019-01-22</td>\n",
       "      <td>http://mp.weixin.qq.com/s?__biz=MzU4ODI2Nzg5Ng...</td>\n",
       "    </tr>\n",
       "    <tr>\n",
       "      <th>5</th>\n",
       "      <td>我是不是真的是一条咸鱼？</td>\n",
       "      <td>2018-08-10</td>\n",
       "      <td>http://mp.weixin.qq.com/s?__biz=MzU4ODI2Nzg5Ng...</td>\n",
       "    </tr>\n",
       "    <tr>\n",
       "      <th>6</th>\n",
       "      <td>没钱旅游？这种低成本旅游帮你忙！</td>\n",
       "      <td>2018-06-19</td>\n",
       "      <td>http://mp.weixin.qq.com/s?__biz=MzU4ODI2Nzg5Ng...</td>\n",
       "    </tr>\n",
       "    <tr>\n",
       "      <th>7</th>\n",
       "      <td>考差了如何舒缓情绪</td>\n",
       "      <td>2018-03-10</td>\n",
       "      <td>http://mp.weixin.qq.com/s?__biz=MzU4ODI2Nzg5Ng...</td>\n",
       "    </tr>\n",
       "    <tr>\n",
       "      <th>8</th>\n",
       "      <td>春节熊孩子指南</td>\n",
       "      <td>2018-02-06</td>\n",
       "      <td>http://mp.weixin.qq.com/s?__biz=MzU4ODI2Nzg5Ng...</td>\n",
       "    </tr>\n",
       "    <tr>\n",
       "      <th>9</th>\n",
       "      <td>拖堂说</td>\n",
       "      <td>2018-01-20</td>\n",
       "      <td>http://mp.weixin.qq.com/s?__biz=MzU4ODI2Nzg5Ng...</td>\n",
       "    </tr>\n",
       "    <tr>\n",
       "      <th>10</th>\n",
       "      <td>戏精的一天</td>\n",
       "      <td>2018-01-06</td>\n",
       "      <td>http://mp.weixin.qq.com/s?__biz=MzU4ODI2Nzg5Ng...</td>\n",
       "    </tr>\n",
       "  </tbody>\n",
       "</table>\n",
       "</div>"
      ],
      "text/plain": [
       "               title create_time  \\\n",
       "0      什么？XX学校居然放假了？  2017-10-15   \n",
       "1           与你相遇，好幸运  2017-10-04   \n",
       "2              网新练习生  2019-05-17   \n",
       "3              我想你了。  2019-05-15   \n",
       "4     三毛时光，只剩下三根毛的时光  2019-01-22   \n",
       "5       我是不是真的是一条咸鱼？  2018-08-10   \n",
       "6   没钱旅游？这种低成本旅游帮你忙！  2018-06-19   \n",
       "7          考差了如何舒缓情绪  2018-03-10   \n",
       "8            春节熊孩子指南  2018-02-06   \n",
       "9                拖堂说  2018-01-20   \n",
       "10             戏精的一天  2018-01-06   \n",
       "\n",
       "                                                 link  \n",
       "0   http://mp.weixin.qq.com/s?__biz=MzU4ODI2Nzg5Ng...  \n",
       "1   http://mp.weixin.qq.com/s?__biz=MzU4ODI2Nzg5Ng...  \n",
       "2   http://mp.weixin.qq.com/s?__biz=MzU4ODI2Nzg5Ng...  \n",
       "3   http://mp.weixin.qq.com/s?__biz=MzU4ODI2Nzg5Ng...  \n",
       "4   http://mp.weixin.qq.com/s?__biz=MzU4ODI2Nzg5Ng...  \n",
       "5   http://mp.weixin.qq.com/s?__biz=MzU4ODI2Nzg5Ng...  \n",
       "6   http://mp.weixin.qq.com/s?__biz=MzU4ODI2Nzg5Ng...  \n",
       "7   http://mp.weixin.qq.com/s?__biz=MzU4ODI2Nzg5Ng...  \n",
       "8   http://mp.weixin.qq.com/s?__biz=MzU4ODI2Nzg5Ng...  \n",
       "9   http://mp.weixin.qq.com/s?__biz=MzU4ODI2Nzg5Ng...  \n",
       "10  http://mp.weixin.qq.com/s?__biz=MzU4ODI2Nzg5Ng...  "
      ]
     },
     "execution_count": 52,
     "metadata": {},
     "output_type": "execute_result"
    }
   ],
   "source": [
    "df_url_out = pd.concat(l_df).reset_index(drop=True)\n",
    "df_url_out.loc[0:10]"
   ]
  },
  {
   "cell_type": "code",
   "execution_count": 53,
   "metadata": {},
   "outputs": [
    {
     "data": {
      "text/html": [
       "<div>\n",
       "<style scoped>\n",
       "    .dataframe tbody tr th:only-of-type {\n",
       "        vertical-align: middle;\n",
       "    }\n",
       "\n",
       "    .dataframe tbody tr th {\n",
       "        vertical-align: top;\n",
       "    }\n",
       "\n",
       "    .dataframe thead th {\n",
       "        text-align: right;\n",
       "    }\n",
       "</style>\n",
       "<table border=\"1\" class=\"dataframe\">\n",
       "  <thead>\n",
       "    <tr style=\"text-align: right;\">\n",
       "      <th></th>\n",
       "      <th>title</th>\n",
       "      <th>create_time</th>\n",
       "      <th>link</th>\n",
       "    </tr>\n",
       "  </thead>\n",
       "  <tbody>\n",
       "    <tr>\n",
       "      <th>14</th>\n",
       "      <td>为什么我们要被“励志”？</td>\n",
       "      <td>2017-11-18</td>\n",
       "      <td>http://mp.weixin.qq.com/s?__biz=MzU4ODI2Nzg5Ng...</td>\n",
       "    </tr>\n",
       "    <tr>\n",
       "      <th>15</th>\n",
       "      <td>爱我吗！！</td>\n",
       "      <td>2017-11-15</td>\n",
       "      <td>http://mp.weixin.qq.com/s?__biz=MzU4ODI2Nzg5Ng...</td>\n",
       "    </tr>\n",
       "    <tr>\n",
       "      <th>16</th>\n",
       "      <td>某马姓男子与中国人的爱恨情仇</td>\n",
       "      <td>2017-11-11</td>\n",
       "      <td>http://mp.weixin.qq.com/s?__biz=MzU4ODI2Nzg5Ng...</td>\n",
       "    </tr>\n",
       "    <tr>\n",
       "      <th>17</th>\n",
       "      <td>什么？XX学校居然放假了？</td>\n",
       "      <td>2017-10-15</td>\n",
       "      <td>http://mp.weixin.qq.com/s?__biz=MzU4ODI2Nzg5Ng...</td>\n",
       "    </tr>\n",
       "    <tr>\n",
       "      <th>18</th>\n",
       "      <td>与你相遇，好幸运</td>\n",
       "      <td>2017-10-04</td>\n",
       "      <td>http://mp.weixin.qq.com/s?__biz=MzU4ODI2Nzg5Ng...</td>\n",
       "    </tr>\n",
       "  </tbody>\n",
       "</table>\n",
       "</div>"
      ],
      "text/plain": [
       "             title create_time  \\\n",
       "14    为什么我们要被“励志”？  2017-11-18   \n",
       "15           爱我吗！！  2017-11-15   \n",
       "16  某马姓男子与中国人的爱恨情仇  2017-11-11   \n",
       "17   什么？XX学校居然放假了？  2017-10-15   \n",
       "18        与你相遇，好幸运  2017-10-04   \n",
       "\n",
       "                                                 link  \n",
       "14  http://mp.weixin.qq.com/s?__biz=MzU4ODI2Nzg5Ng...  \n",
       "15  http://mp.weixin.qq.com/s?__biz=MzU4ODI2Nzg5Ng...  \n",
       "16  http://mp.weixin.qq.com/s?__biz=MzU4ODI2Nzg5Ng...  \n",
       "17  http://mp.weixin.qq.com/s?__biz=MzU4ODI2Nzg5Ng...  \n",
       "18  http://mp.weixin.qq.com/s?__biz=MzU4ODI2Nzg5Ng...  "
      ]
     },
     "execution_count": 53,
     "metadata": {},
     "output_type": "execute_result"
    }
   ],
   "source": [
    "df_url_out.tail(5)"
   ]
  },
  {
   "cell_type": "code",
   "execution_count": 62,
   "metadata": {},
   "outputs": [
    {
     "data": {
      "text/html": [
       "<div>\n",
       "<style scoped>\n",
       "    .dataframe tbody tr th:only-of-type {\n",
       "        vertical-align: middle;\n",
       "    }\n",
       "\n",
       "    .dataframe tbody tr th {\n",
       "        vertical-align: top;\n",
       "    }\n",
       "\n",
       "    .dataframe thead th {\n",
       "        text-align: right;\n",
       "    }\n",
       "</style>\n",
       "<table border=\"1\" class=\"dataframe\">\n",
       "  <thead>\n",
       "    <tr style=\"text-align: right;\">\n",
       "      <th></th>\n",
       "      <th>title</th>\n",
       "      <th>create_time</th>\n",
       "      <th>link</th>\n",
       "    </tr>\n",
       "    <tr>\n",
       "      <th>value</th>\n",
       "      <th></th>\n",
       "      <th></th>\n",
       "      <th></th>\n",
       "    </tr>\n",
       "  </thead>\n",
       "  <tbody>\n",
       "    <tr>\n",
       "      <th>2</th>\n",
       "      <td>网新练习生</td>\n",
       "      <td>2019-05-17</td>\n",
       "      <td>http://mp.weixin.qq.com/s?__biz=MzU4ODI2Nzg5Ng...</td>\n",
       "    </tr>\n",
       "    <tr>\n",
       "      <th>3</th>\n",
       "      <td>我想你了。</td>\n",
       "      <td>2019-05-15</td>\n",
       "      <td>http://mp.weixin.qq.com/s?__biz=MzU4ODI2Nzg5Ng...</td>\n",
       "    </tr>\n",
       "    <tr>\n",
       "      <th>4</th>\n",
       "      <td>三毛时光，只剩下三根毛的时光</td>\n",
       "      <td>2019-01-22</td>\n",
       "      <td>http://mp.weixin.qq.com/s?__biz=MzU4ODI2Nzg5Ng...</td>\n",
       "    </tr>\n",
       "    <tr>\n",
       "      <th>5</th>\n",
       "      <td>我是不是真的是一条咸鱼？</td>\n",
       "      <td>2018-08-10</td>\n",
       "      <td>http://mp.weixin.qq.com/s?__biz=MzU4ODI2Nzg5Ng...</td>\n",
       "    </tr>\n",
       "    <tr>\n",
       "      <th>6</th>\n",
       "      <td>没钱旅游？这种低成本旅游帮你忙！</td>\n",
       "      <td>2018-06-19</td>\n",
       "      <td>http://mp.weixin.qq.com/s?__biz=MzU4ODI2Nzg5Ng...</td>\n",
       "    </tr>\n",
       "    <tr>\n",
       "      <th>7</th>\n",
       "      <td>考差了如何舒缓情绪</td>\n",
       "      <td>2018-03-10</td>\n",
       "      <td>http://mp.weixin.qq.com/s?__biz=MzU4ODI2Nzg5Ng...</td>\n",
       "    </tr>\n",
       "    <tr>\n",
       "      <th>9</th>\n",
       "      <td>拖堂说</td>\n",
       "      <td>2018-01-20</td>\n",
       "      <td>http://mp.weixin.qq.com/s?__biz=MzU4ODI2Nzg5Ng...</td>\n",
       "    </tr>\n",
       "    <tr>\n",
       "      <th>11</th>\n",
       "      <td>其实大家都爱你</td>\n",
       "      <td>2017-12-24</td>\n",
       "      <td>http://mp.weixin.qq.com/s?__biz=MzU4ODI2Nzg5Ng...</td>\n",
       "    </tr>\n",
       "    <tr>\n",
       "      <th>13</th>\n",
       "      <td>幼儿园里那些你不知道的事情</td>\n",
       "      <td>2017-11-25</td>\n",
       "      <td>http://mp.weixin.qq.com/s?__biz=MzU4ODI2Nzg5Ng...</td>\n",
       "    </tr>\n",
       "    <tr>\n",
       "      <th>15</th>\n",
       "      <td>爱我吗！！</td>\n",
       "      <td>2017-11-15</td>\n",
       "      <td>http://mp.weixin.qq.com/s?__biz=MzU4ODI2Nzg5Ng...</td>\n",
       "    </tr>\n",
       "    <tr>\n",
       "      <th>16</th>\n",
       "      <td>某马姓男子与中国人的爱恨情仇</td>\n",
       "      <td>2017-11-11</td>\n",
       "      <td>http://mp.weixin.qq.com/s?__biz=MzU4ODI2Nzg5Ng...</td>\n",
       "    </tr>\n",
       "  </tbody>\n",
       "</table>\n",
       "</div>"
      ],
      "text/plain": [
       "                  title create_time  \\\n",
       "value                                 \n",
       "2                 网新练习生  2019-05-17   \n",
       "3                 我想你了。  2019-05-15   \n",
       "4        三毛时光，只剩下三根毛的时光  2019-01-22   \n",
       "5          我是不是真的是一条咸鱼？  2018-08-10   \n",
       "6      没钱旅游？这种低成本旅游帮你忙！  2018-06-19   \n",
       "7             考差了如何舒缓情绪  2018-03-10   \n",
       "9                   拖堂说  2018-01-20   \n",
       "11              其实大家都爱你  2017-12-24   \n",
       "13        幼儿园里那些你不知道的事情  2017-11-25   \n",
       "15                爱我吗！！  2017-11-15   \n",
       "16       某马姓男子与中国人的爱恨情仇  2017-11-11   \n",
       "\n",
       "                                                    link  \n",
       "value                                                     \n",
       "2      http://mp.weixin.qq.com/s?__biz=MzU4ODI2Nzg5Ng...  \n",
       "3      http://mp.weixin.qq.com/s?__biz=MzU4ODI2Nzg5Ng...  \n",
       "4      http://mp.weixin.qq.com/s?__biz=MzU4ODI2Nzg5Ng...  \n",
       "5      http://mp.weixin.qq.com/s?__biz=MzU4ODI2Nzg5Ng...  \n",
       "6      http://mp.weixin.qq.com/s?__biz=MzU4ODI2Nzg5Ng...  \n",
       "7      http://mp.weixin.qq.com/s?__biz=MzU4ODI2Nzg5Ng...  \n",
       "9      http://mp.weixin.qq.com/s?__biz=MzU4ODI2Nzg5Ng...  \n",
       "11     http://mp.weixin.qq.com/s?__biz=MzU4ODI2Nzg5Ng...  \n",
       "13     http://mp.weixin.qq.com/s?__biz=MzU4ODI2Nzg5Ng...  \n",
       "15     http://mp.weixin.qq.com/s?__biz=MzU4ODI2Nzg5Ng...  \n",
       "16     http://mp.weixin.qq.com/s?__biz=MzU4ODI2Nzg5Ng...  "
      ]
     },
     "execution_count": 62,
     "metadata": {},
     "output_type": "execute_result"
    }
   ],
   "source": [
    "# tagging 标记\n",
    "tagging_list = [\"\",\"学校\",\"级长\",\"丧\",\"思考\",\"为了\",\\\n",
    "                \"励志\",\"游戏设计\",\"放假\",\"幸运\",\"开心\",\"戏精\",\"出轨\",\"春节\",\"熊孩子\"] #overwritable\n",
    "\n",
    "v_v_list = []\n",
    "\n",
    "for tag in tagging_list:\n",
    "    index_list = df_url_out [ df_url_out.title.str.contains(tag) ].index.tolist()\n",
    "    v_v_pairs = pd.DataFrame({tag:index_list}).melt().set_index(\"value\")\n",
    "    v_v_list.append(v_v_pairs)\n",
    "\n",
    "df_cat = v_v_list[0]\n",
    "for d in v_v_list:\n",
    "    df_cat.update(d)\n",
    "    \n",
    "# 尚未标记内容\n",
    "df_url_out.loc [ df_cat.query('variable==\"\"').index ]"
   ]
  },
  {
   "cell_type": "code",
   "execution_count": 63,
   "metadata": {},
   "outputs": [
    {
     "ename": "KeyError",
     "evalue": "53",
     "output_type": "error",
     "traceback": [
      "\u001b[1;31m---------------------------------------------------------------------------\u001b[0m",
      "\u001b[1;31mValueError\u001b[0m                                Traceback (most recent call last)",
      "\u001b[1;32mC:\\ProgramData\\Anaconda3\\lib\\site-packages\\pandas\\core\\indexes\\range.py\u001b[0m in \u001b[0;36mget_loc\u001b[1;34m(self, key, method, tolerance)\u001b[0m\n\u001b[0;32m    349\u001b[0m             \u001b[1;32mtry\u001b[0m\u001b[1;33m:\u001b[0m\u001b[1;33m\u001b[0m\u001b[1;33m\u001b[0m\u001b[0m\n\u001b[1;32m--> 350\u001b[1;33m                 \u001b[1;32mreturn\u001b[0m \u001b[0mself\u001b[0m\u001b[1;33m.\u001b[0m\u001b[0m_range\u001b[0m\u001b[1;33m.\u001b[0m\u001b[0mindex\u001b[0m\u001b[1;33m(\u001b[0m\u001b[0mnew_key\u001b[0m\u001b[1;33m)\u001b[0m\u001b[1;33m\u001b[0m\u001b[1;33m\u001b[0m\u001b[0m\n\u001b[0m\u001b[0;32m    351\u001b[0m             \u001b[1;32mexcept\u001b[0m \u001b[0mValueError\u001b[0m\u001b[1;33m:\u001b[0m\u001b[1;33m\u001b[0m\u001b[1;33m\u001b[0m\u001b[0m\n",
      "\u001b[1;31mValueError\u001b[0m: 53 is not in range",
      "\nDuring handling of the above exception, another exception occurred:\n",
      "\u001b[1;31mKeyError\u001b[0m                                  Traceback (most recent call last)",
      "\u001b[1;32m<ipython-input-63-3659d3c7b5e9>\u001b[0m in \u001b[0;36m<module>\u001b[1;34m\u001b[0m\n\u001b[1;32m----> 1\u001b[1;33m \u001b[0mdf_url_out\u001b[0m\u001b[1;33m.\u001b[0m\u001b[0mloc\u001b[0m\u001b[1;33m[\u001b[0m\u001b[1;36m53\u001b[0m\u001b[1;33m]\u001b[0m\u001b[1;33m.\u001b[0m\u001b[0mlink\u001b[0m\u001b[1;33m\u001b[0m\u001b[1;33m\u001b[0m\u001b[0m\n\u001b[0m",
      "\u001b[1;32mC:\\ProgramData\\Anaconda3\\lib\\site-packages\\pandas\\core\\indexing.py\u001b[0m in \u001b[0;36m__getitem__\u001b[1;34m(self, key)\u001b[0m\n\u001b[0;32m   1766\u001b[0m \u001b[1;33m\u001b[0m\u001b[0m\n\u001b[0;32m   1767\u001b[0m             \u001b[0mmaybe_callable\u001b[0m \u001b[1;33m=\u001b[0m \u001b[0mcom\u001b[0m\u001b[1;33m.\u001b[0m\u001b[0mapply_if_callable\u001b[0m\u001b[1;33m(\u001b[0m\u001b[0mkey\u001b[0m\u001b[1;33m,\u001b[0m \u001b[0mself\u001b[0m\u001b[1;33m.\u001b[0m\u001b[0mobj\u001b[0m\u001b[1;33m)\u001b[0m\u001b[1;33m\u001b[0m\u001b[1;33m\u001b[0m\u001b[0m\n\u001b[1;32m-> 1768\u001b[1;33m             \u001b[1;32mreturn\u001b[0m \u001b[0mself\u001b[0m\u001b[1;33m.\u001b[0m\u001b[0m_getitem_axis\u001b[0m\u001b[1;33m(\u001b[0m\u001b[0mmaybe_callable\u001b[0m\u001b[1;33m,\u001b[0m \u001b[0maxis\u001b[0m\u001b[1;33m=\u001b[0m\u001b[0maxis\u001b[0m\u001b[1;33m)\u001b[0m\u001b[1;33m\u001b[0m\u001b[1;33m\u001b[0m\u001b[0m\n\u001b[0m\u001b[0;32m   1769\u001b[0m \u001b[1;33m\u001b[0m\u001b[0m\n\u001b[0;32m   1770\u001b[0m     \u001b[1;32mdef\u001b[0m \u001b[0m_is_scalar_access\u001b[0m\u001b[1;33m(\u001b[0m\u001b[0mself\u001b[0m\u001b[1;33m,\u001b[0m \u001b[0mkey\u001b[0m\u001b[1;33m:\u001b[0m \u001b[0mTuple\u001b[0m\u001b[1;33m)\u001b[0m\u001b[1;33m:\u001b[0m\u001b[1;33m\u001b[0m\u001b[1;33m\u001b[0m\u001b[0m\n",
      "\u001b[1;32mC:\\ProgramData\\Anaconda3\\lib\\site-packages\\pandas\\core\\indexing.py\u001b[0m in \u001b[0;36m_getitem_axis\u001b[1;34m(self, key, axis)\u001b[0m\n\u001b[0;32m   1963\u001b[0m         \u001b[1;31m# fall thru to straight lookup\u001b[0m\u001b[1;33m\u001b[0m\u001b[1;33m\u001b[0m\u001b[1;33m\u001b[0m\u001b[0m\n\u001b[0;32m   1964\u001b[0m         \u001b[0mself\u001b[0m\u001b[1;33m.\u001b[0m\u001b[0m_validate_key\u001b[0m\u001b[1;33m(\u001b[0m\u001b[0mkey\u001b[0m\u001b[1;33m,\u001b[0m \u001b[0maxis\u001b[0m\u001b[1;33m)\u001b[0m\u001b[1;33m\u001b[0m\u001b[1;33m\u001b[0m\u001b[0m\n\u001b[1;32m-> 1965\u001b[1;33m         \u001b[1;32mreturn\u001b[0m \u001b[0mself\u001b[0m\u001b[1;33m.\u001b[0m\u001b[0m_get_label\u001b[0m\u001b[1;33m(\u001b[0m\u001b[0mkey\u001b[0m\u001b[1;33m,\u001b[0m \u001b[0maxis\u001b[0m\u001b[1;33m=\u001b[0m\u001b[0maxis\u001b[0m\u001b[1;33m)\u001b[0m\u001b[1;33m\u001b[0m\u001b[1;33m\u001b[0m\u001b[0m\n\u001b[0m\u001b[0;32m   1966\u001b[0m \u001b[1;33m\u001b[0m\u001b[0m\n\u001b[0;32m   1967\u001b[0m \u001b[1;33m\u001b[0m\u001b[0m\n",
      "\u001b[1;32mC:\\ProgramData\\Anaconda3\\lib\\site-packages\\pandas\\core\\indexing.py\u001b[0m in \u001b[0;36m_get_label\u001b[1;34m(self, label, axis)\u001b[0m\n\u001b[0;32m    623\u001b[0m             \u001b[1;32mraise\u001b[0m \u001b[0mIndexingError\u001b[0m\u001b[1;33m(\u001b[0m\u001b[1;34m\"no slices here, handle elsewhere\"\u001b[0m\u001b[1;33m)\u001b[0m\u001b[1;33m\u001b[0m\u001b[1;33m\u001b[0m\u001b[0m\n\u001b[0;32m    624\u001b[0m \u001b[1;33m\u001b[0m\u001b[0m\n\u001b[1;32m--> 625\u001b[1;33m         \u001b[1;32mreturn\u001b[0m \u001b[0mself\u001b[0m\u001b[1;33m.\u001b[0m\u001b[0mobj\u001b[0m\u001b[1;33m.\u001b[0m\u001b[0m_xs\u001b[0m\u001b[1;33m(\u001b[0m\u001b[0mlabel\u001b[0m\u001b[1;33m,\u001b[0m \u001b[0maxis\u001b[0m\u001b[1;33m=\u001b[0m\u001b[0maxis\u001b[0m\u001b[1;33m)\u001b[0m\u001b[1;33m\u001b[0m\u001b[1;33m\u001b[0m\u001b[0m\n\u001b[0m\u001b[0;32m    626\u001b[0m \u001b[1;33m\u001b[0m\u001b[0m\n\u001b[0;32m    627\u001b[0m     \u001b[1;32mdef\u001b[0m \u001b[0m_get_loc\u001b[0m\u001b[1;33m(\u001b[0m\u001b[0mself\u001b[0m\u001b[1;33m,\u001b[0m \u001b[0mkey\u001b[0m\u001b[1;33m:\u001b[0m \u001b[0mint\u001b[0m\u001b[1;33m,\u001b[0m \u001b[0maxis\u001b[0m\u001b[1;33m:\u001b[0m \u001b[0mint\u001b[0m\u001b[1;33m)\u001b[0m\u001b[1;33m:\u001b[0m\u001b[1;33m\u001b[0m\u001b[1;33m\u001b[0m\u001b[0m\n",
      "\u001b[1;32mC:\\ProgramData\\Anaconda3\\lib\\site-packages\\pandas\\core\\generic.py\u001b[0m in \u001b[0;36mxs\u001b[1;34m(self, key, axis, level, drop_level)\u001b[0m\n\u001b[0;32m   3535\u001b[0m             \u001b[0mloc\u001b[0m\u001b[1;33m,\u001b[0m \u001b[0mnew_index\u001b[0m \u001b[1;33m=\u001b[0m \u001b[0mself\u001b[0m\u001b[1;33m.\u001b[0m\u001b[0mindex\u001b[0m\u001b[1;33m.\u001b[0m\u001b[0mget_loc_level\u001b[0m\u001b[1;33m(\u001b[0m\u001b[0mkey\u001b[0m\u001b[1;33m,\u001b[0m \u001b[0mdrop_level\u001b[0m\u001b[1;33m=\u001b[0m\u001b[0mdrop_level\u001b[0m\u001b[1;33m)\u001b[0m\u001b[1;33m\u001b[0m\u001b[1;33m\u001b[0m\u001b[0m\n\u001b[0;32m   3536\u001b[0m         \u001b[1;32melse\u001b[0m\u001b[1;33m:\u001b[0m\u001b[1;33m\u001b[0m\u001b[1;33m\u001b[0m\u001b[0m\n\u001b[1;32m-> 3537\u001b[1;33m             \u001b[0mloc\u001b[0m \u001b[1;33m=\u001b[0m \u001b[0mself\u001b[0m\u001b[1;33m.\u001b[0m\u001b[0mindex\u001b[0m\u001b[1;33m.\u001b[0m\u001b[0mget_loc\u001b[0m\u001b[1;33m(\u001b[0m\u001b[0mkey\u001b[0m\u001b[1;33m)\u001b[0m\u001b[1;33m\u001b[0m\u001b[1;33m\u001b[0m\u001b[0m\n\u001b[0m\u001b[0;32m   3538\u001b[0m \u001b[1;33m\u001b[0m\u001b[0m\n\u001b[0;32m   3539\u001b[0m             \u001b[1;32mif\u001b[0m \u001b[0misinstance\u001b[0m\u001b[1;33m(\u001b[0m\u001b[0mloc\u001b[0m\u001b[1;33m,\u001b[0m \u001b[0mnp\u001b[0m\u001b[1;33m.\u001b[0m\u001b[0mndarray\u001b[0m\u001b[1;33m)\u001b[0m\u001b[1;33m:\u001b[0m\u001b[1;33m\u001b[0m\u001b[1;33m\u001b[0m\u001b[0m\n",
      "\u001b[1;32mC:\\ProgramData\\Anaconda3\\lib\\site-packages\\pandas\\core\\indexes\\range.py\u001b[0m in \u001b[0;36mget_loc\u001b[1;34m(self, key, method, tolerance)\u001b[0m\n\u001b[0;32m    350\u001b[0m                 \u001b[1;32mreturn\u001b[0m \u001b[0mself\u001b[0m\u001b[1;33m.\u001b[0m\u001b[0m_range\u001b[0m\u001b[1;33m.\u001b[0m\u001b[0mindex\u001b[0m\u001b[1;33m(\u001b[0m\u001b[0mnew_key\u001b[0m\u001b[1;33m)\u001b[0m\u001b[1;33m\u001b[0m\u001b[1;33m\u001b[0m\u001b[0m\n\u001b[0;32m    351\u001b[0m             \u001b[1;32mexcept\u001b[0m \u001b[0mValueError\u001b[0m\u001b[1;33m:\u001b[0m\u001b[1;33m\u001b[0m\u001b[1;33m\u001b[0m\u001b[0m\n\u001b[1;32m--> 352\u001b[1;33m                 \u001b[1;32mraise\u001b[0m \u001b[0mKeyError\u001b[0m\u001b[1;33m(\u001b[0m\u001b[0mkey\u001b[0m\u001b[1;33m)\u001b[0m\u001b[1;33m\u001b[0m\u001b[1;33m\u001b[0m\u001b[0m\n\u001b[0m\u001b[0;32m    353\u001b[0m         \u001b[1;32mreturn\u001b[0m \u001b[0msuper\u001b[0m\u001b[1;33m(\u001b[0m\u001b[1;33m)\u001b[0m\u001b[1;33m.\u001b[0m\u001b[0mget_loc\u001b[0m\u001b[1;33m(\u001b[0m\u001b[0mkey\u001b[0m\u001b[1;33m,\u001b[0m \u001b[0mmethod\u001b[0m\u001b[1;33m=\u001b[0m\u001b[0mmethod\u001b[0m\u001b[1;33m,\u001b[0m \u001b[0mtolerance\u001b[0m\u001b[1;33m=\u001b[0m\u001b[0mtolerance\u001b[0m\u001b[1;33m)\u001b[0m\u001b[1;33m\u001b[0m\u001b[1;33m\u001b[0m\u001b[0m\n\u001b[0;32m    354\u001b[0m \u001b[1;33m\u001b[0m\u001b[0m\n",
      "\u001b[1;31mKeyError\u001b[0m: 53"
     ]
    }
   ],
   "source": [
    "df_url_out.loc[53].link"
   ]
  },
  {
   "cell_type": "code",
   "execution_count": 64,
   "metadata": {},
   "outputs": [
    {
     "data": {
      "text/html": [
       "<div>\n",
       "<style scoped>\n",
       "    .dataframe tbody tr th:only-of-type {\n",
       "        vertical-align: middle;\n",
       "    }\n",
       "\n",
       "    .dataframe tbody tr th {\n",
       "        vertical-align: top;\n",
       "    }\n",
       "\n",
       "    .dataframe thead th {\n",
       "        text-align: right;\n",
       "    }\n",
       "</style>\n",
       "<table border=\"1\" class=\"dataframe\">\n",
       "  <thead>\n",
       "    <tr style=\"text-align: right;\">\n",
       "      <th></th>\n",
       "      <th>title</th>\n",
       "      <th>create_time</th>\n",
       "      <th>link</th>\n",
       "    </tr>\n",
       "  </thead>\n",
       "  <tbody>\n",
       "    <tr>\n",
       "      <th>17</th>\n",
       "      <td>什么？XX学校居然放假了？</td>\n",
       "      <td>2017-10-15</td>\n",
       "      <td>http://mp.weixin.qq.com/s?__biz=MzU4ODI2Nzg5Ng...</td>\n",
       "    </tr>\n",
       "    <tr>\n",
       "      <th>18</th>\n",
       "      <td>与你相遇，好幸运</td>\n",
       "      <td>2017-10-04</td>\n",
       "      <td>http://mp.weixin.qq.com/s?__biz=MzU4ODI2Nzg5Ng...</td>\n",
       "    </tr>\n",
       "  </tbody>\n",
       "</table>\n",
       "</div>"
      ],
      "text/plain": [
       "            title create_time  \\\n",
       "17  什么？XX学校居然放假了？  2017-10-15   \n",
       "18       与你相遇，好幸运  2017-10-04   \n",
       "\n",
       "                                                 link  \n",
       "17  http://mp.weixin.qq.com/s?__biz=MzU4ODI2Nzg5Ng...  \n",
       "18  http://mp.weixin.qq.com/s?__biz=MzU4ODI2Nzg5Ng...  "
      ]
     },
     "execution_count": 64,
     "metadata": {},
     "output_type": "execute_result"
    }
   ],
   "source": [
    "df_url_out[df_url_out.duplicated()]# 查看重复项，没有显示，说明没有"
   ]
  },
  {
   "cell_type": "code",
   "execution_count": 65,
   "metadata": {},
   "outputs": [
    {
     "data": {
      "text/html": [
       "<div>\n",
       "<style scoped>\n",
       "    .dataframe tbody tr th:only-of-type {\n",
       "        vertical-align: middle;\n",
       "    }\n",
       "\n",
       "    .dataframe tbody tr th {\n",
       "        vertical-align: top;\n",
       "    }\n",
       "\n",
       "    .dataframe thead th {\n",
       "        text-align: right;\n",
       "    }\n",
       "</style>\n",
       "<table border=\"1\" class=\"dataframe\">\n",
       "  <thead>\n",
       "    <tr style=\"text-align: right;\">\n",
       "      <th></th>\n",
       "      <th>title</th>\n",
       "      <th>create_time</th>\n",
       "      <th>link</th>\n",
       "    </tr>\n",
       "  </thead>\n",
       "  <tbody>\n",
       "    <tr>\n",
       "      <th>0</th>\n",
       "      <td>什么？XX学校居然放假了？</td>\n",
       "      <td>2017-10-15</td>\n",
       "      <td>http://mp.weixin.qq.com/s?__biz=MzU4ODI2Nzg5Ng...</td>\n",
       "    </tr>\n",
       "    <tr>\n",
       "      <th>1</th>\n",
       "      <td>与你相遇，好幸运</td>\n",
       "      <td>2017-10-04</td>\n",
       "      <td>http://mp.weixin.qq.com/s?__biz=MzU4ODI2Nzg5Ng...</td>\n",
       "    </tr>\n",
       "    <tr>\n",
       "      <th>2</th>\n",
       "      <td>网新练习生</td>\n",
       "      <td>2019-05-17</td>\n",
       "      <td>http://mp.weixin.qq.com/s?__biz=MzU4ODI2Nzg5Ng...</td>\n",
       "    </tr>\n",
       "    <tr>\n",
       "      <th>3</th>\n",
       "      <td>我想你了。</td>\n",
       "      <td>2019-05-15</td>\n",
       "      <td>http://mp.weixin.qq.com/s?__biz=MzU4ODI2Nzg5Ng...</td>\n",
       "    </tr>\n",
       "    <tr>\n",
       "      <th>4</th>\n",
       "      <td>三毛时光，只剩下三根毛的时光</td>\n",
       "      <td>2019-01-22</td>\n",
       "      <td>http://mp.weixin.qq.com/s?__biz=MzU4ODI2Nzg5Ng...</td>\n",
       "    </tr>\n",
       "    <tr>\n",
       "      <th>5</th>\n",
       "      <td>我是不是真的是一条咸鱼？</td>\n",
       "      <td>2018-08-10</td>\n",
       "      <td>http://mp.weixin.qq.com/s?__biz=MzU4ODI2Nzg5Ng...</td>\n",
       "    </tr>\n",
       "    <tr>\n",
       "      <th>6</th>\n",
       "      <td>没钱旅游？这种低成本旅游帮你忙！</td>\n",
       "      <td>2018-06-19</td>\n",
       "      <td>http://mp.weixin.qq.com/s?__biz=MzU4ODI2Nzg5Ng...</td>\n",
       "    </tr>\n",
       "    <tr>\n",
       "      <th>7</th>\n",
       "      <td>考差了如何舒缓情绪</td>\n",
       "      <td>2018-03-10</td>\n",
       "      <td>http://mp.weixin.qq.com/s?__biz=MzU4ODI2Nzg5Ng...</td>\n",
       "    </tr>\n",
       "    <tr>\n",
       "      <th>8</th>\n",
       "      <td>春节熊孩子指南</td>\n",
       "      <td>2018-02-06</td>\n",
       "      <td>http://mp.weixin.qq.com/s?__biz=MzU4ODI2Nzg5Ng...</td>\n",
       "    </tr>\n",
       "    <tr>\n",
       "      <th>9</th>\n",
       "      <td>拖堂说</td>\n",
       "      <td>2018-01-20</td>\n",
       "      <td>http://mp.weixin.qq.com/s?__biz=MzU4ODI2Nzg5Ng...</td>\n",
       "    </tr>\n",
       "    <tr>\n",
       "      <th>10</th>\n",
       "      <td>戏精的一天</td>\n",
       "      <td>2018-01-06</td>\n",
       "      <td>http://mp.weixin.qq.com/s?__biz=MzU4ODI2Nzg5Ng...</td>\n",
       "    </tr>\n",
       "    <tr>\n",
       "      <th>11</th>\n",
       "      <td>其实大家都爱你</td>\n",
       "      <td>2017-12-24</td>\n",
       "      <td>http://mp.weixin.qq.com/s?__biz=MzU4ODI2Nzg5Ng...</td>\n",
       "    </tr>\n",
       "    <tr>\n",
       "      <th>12</th>\n",
       "      <td>王录才级长的故事(教你说rap)</td>\n",
       "      <td>2017-12-23</td>\n",
       "      <td>http://mp.weixin.qq.com/s?__biz=MzU4ODI2Nzg5Ng...</td>\n",
       "    </tr>\n",
       "    <tr>\n",
       "      <th>13</th>\n",
       "      <td>幼儿园里那些你不知道的事情</td>\n",
       "      <td>2017-11-25</td>\n",
       "      <td>http://mp.weixin.qq.com/s?__biz=MzU4ODI2Nzg5Ng...</td>\n",
       "    </tr>\n",
       "    <tr>\n",
       "      <th>14</th>\n",
       "      <td>为什么我们要被“励志”？</td>\n",
       "      <td>2017-11-18</td>\n",
       "      <td>http://mp.weixin.qq.com/s?__biz=MzU4ODI2Nzg5Ng...</td>\n",
       "    </tr>\n",
       "    <tr>\n",
       "      <th>15</th>\n",
       "      <td>爱我吗！！</td>\n",
       "      <td>2017-11-15</td>\n",
       "      <td>http://mp.weixin.qq.com/s?__biz=MzU4ODI2Nzg5Ng...</td>\n",
       "    </tr>\n",
       "    <tr>\n",
       "      <th>16</th>\n",
       "      <td>某马姓男子与中国人的爱恨情仇</td>\n",
       "      <td>2017-11-11</td>\n",
       "      <td>http://mp.weixin.qq.com/s?__biz=MzU4ODI2Nzg5Ng...</td>\n",
       "    </tr>\n",
       "  </tbody>\n",
       "</table>\n",
       "</div>"
      ],
      "text/plain": [
       "               title create_time  \\\n",
       "0      什么？XX学校居然放假了？  2017-10-15   \n",
       "1           与你相遇，好幸运  2017-10-04   \n",
       "2              网新练习生  2019-05-17   \n",
       "3              我想你了。  2019-05-15   \n",
       "4     三毛时光，只剩下三根毛的时光  2019-01-22   \n",
       "5       我是不是真的是一条咸鱼？  2018-08-10   \n",
       "6   没钱旅游？这种低成本旅游帮你忙！  2018-06-19   \n",
       "7          考差了如何舒缓情绪  2018-03-10   \n",
       "8            春节熊孩子指南  2018-02-06   \n",
       "9                拖堂说  2018-01-20   \n",
       "10             戏精的一天  2018-01-06   \n",
       "11           其实大家都爱你  2017-12-24   \n",
       "12  王录才级长的故事(教你说rap)  2017-12-23   \n",
       "13     幼儿园里那些你不知道的事情  2017-11-25   \n",
       "14      为什么我们要被“励志”？  2017-11-18   \n",
       "15             爱我吗！！  2017-11-15   \n",
       "16    某马姓男子与中国人的爱恨情仇  2017-11-11   \n",
       "\n",
       "                                                 link  \n",
       "0   http://mp.weixin.qq.com/s?__biz=MzU4ODI2Nzg5Ng...  \n",
       "1   http://mp.weixin.qq.com/s?__biz=MzU4ODI2Nzg5Ng...  \n",
       "2   http://mp.weixin.qq.com/s?__biz=MzU4ODI2Nzg5Ng...  \n",
       "3   http://mp.weixin.qq.com/s?__biz=MzU4ODI2Nzg5Ng...  \n",
       "4   http://mp.weixin.qq.com/s?__biz=MzU4ODI2Nzg5Ng...  \n",
       "5   http://mp.weixin.qq.com/s?__biz=MzU4ODI2Nzg5Ng...  \n",
       "6   http://mp.weixin.qq.com/s?__biz=MzU4ODI2Nzg5Ng...  \n",
       "7   http://mp.weixin.qq.com/s?__biz=MzU4ODI2Nzg5Ng...  \n",
       "8   http://mp.weixin.qq.com/s?__biz=MzU4ODI2Nzg5Ng...  \n",
       "9   http://mp.weixin.qq.com/s?__biz=MzU4ODI2Nzg5Ng...  \n",
       "10  http://mp.weixin.qq.com/s?__biz=MzU4ODI2Nzg5Ng...  \n",
       "11  http://mp.weixin.qq.com/s?__biz=MzU4ODI2Nzg5Ng...  \n",
       "12  http://mp.weixin.qq.com/s?__biz=MzU4ODI2Nzg5Ng...  \n",
       "13  http://mp.weixin.qq.com/s?__biz=MzU4ODI2Nzg5Ng...  \n",
       "14  http://mp.weixin.qq.com/s?__biz=MzU4ODI2Nzg5Ng...  \n",
       "15  http://mp.weixin.qq.com/s?__biz=MzU4ODI2Nzg5Ng...  \n",
       "16  http://mp.weixin.qq.com/s?__biz=MzU4ODI2Nzg5Ng...  "
      ]
     },
     "execution_count": 65,
     "metadata": {},
     "output_type": "execute_result"
    }
   ],
   "source": [
    "df_url_out[~df_url_out.duplicated()]"
   ]
  },
  {
   "cell_type": "code",
   "execution_count": 66,
   "metadata": {},
   "outputs": [
    {
     "data": {
      "text/html": [
       "<div>\n",
       "<style scoped>\n",
       "    .dataframe tbody tr th:only-of-type {\n",
       "        vertical-align: middle;\n",
       "    }\n",
       "\n",
       "    .dataframe tbody tr th {\n",
       "        vertical-align: top;\n",
       "    }\n",
       "\n",
       "    .dataframe thead th {\n",
       "        text-align: right;\n",
       "    }\n",
       "</style>\n",
       "<table border=\"1\" class=\"dataframe\">\n",
       "  <thead>\n",
       "    <tr style=\"text-align: right;\">\n",
       "      <th></th>\n",
       "      <th>title</th>\n",
       "      <th>create_time</th>\n",
       "      <th>link</th>\n",
       "      <th>variable</th>\n",
       "    </tr>\n",
       "  </thead>\n",
       "  <tbody>\n",
       "    <tr>\n",
       "      <th>0</th>\n",
       "      <td>什么？XX学校居然放假了？</td>\n",
       "      <td>2017-10-15</td>\n",
       "      <td>http://mp.weixin.qq.com/s?__biz=MzU4ODI2Nzg5Ng...</td>\n",
       "      <td>放假</td>\n",
       "    </tr>\n",
       "    <tr>\n",
       "      <th>1</th>\n",
       "      <td>与你相遇，好幸运</td>\n",
       "      <td>2017-10-04</td>\n",
       "      <td>http://mp.weixin.qq.com/s?__biz=MzU4ODI2Nzg5Ng...</td>\n",
       "      <td>幸运</td>\n",
       "    </tr>\n",
       "    <tr>\n",
       "      <th>2</th>\n",
       "      <td>网新练习生</td>\n",
       "      <td>2019-05-17</td>\n",
       "      <td>http://mp.weixin.qq.com/s?__biz=MzU4ODI2Nzg5Ng...</td>\n",
       "      <td>无法分类</td>\n",
       "    </tr>\n",
       "    <tr>\n",
       "      <th>3</th>\n",
       "      <td>我想你了。</td>\n",
       "      <td>2019-05-15</td>\n",
       "      <td>http://mp.weixin.qq.com/s?__biz=MzU4ODI2Nzg5Ng...</td>\n",
       "      <td>无法分类</td>\n",
       "    </tr>\n",
       "    <tr>\n",
       "      <th>4</th>\n",
       "      <td>三毛时光，只剩下三根毛的时光</td>\n",
       "      <td>2019-01-22</td>\n",
       "      <td>http://mp.weixin.qq.com/s?__biz=MzU4ODI2Nzg5Ng...</td>\n",
       "      <td>无法分类</td>\n",
       "    </tr>\n",
       "    <tr>\n",
       "      <th>5</th>\n",
       "      <td>我是不是真的是一条咸鱼？</td>\n",
       "      <td>2018-08-10</td>\n",
       "      <td>http://mp.weixin.qq.com/s?__biz=MzU4ODI2Nzg5Ng...</td>\n",
       "      <td>无法分类</td>\n",
       "    </tr>\n",
       "    <tr>\n",
       "      <th>6</th>\n",
       "      <td>没钱旅游？这种低成本旅游帮你忙！</td>\n",
       "      <td>2018-06-19</td>\n",
       "      <td>http://mp.weixin.qq.com/s?__biz=MzU4ODI2Nzg5Ng...</td>\n",
       "      <td>无法分类</td>\n",
       "    </tr>\n",
       "    <tr>\n",
       "      <th>7</th>\n",
       "      <td>考差了如何舒缓情绪</td>\n",
       "      <td>2018-03-10</td>\n",
       "      <td>http://mp.weixin.qq.com/s?__biz=MzU4ODI2Nzg5Ng...</td>\n",
       "      <td>无法分类</td>\n",
       "    </tr>\n",
       "    <tr>\n",
       "      <th>8</th>\n",
       "      <td>春节熊孩子指南</td>\n",
       "      <td>2018-02-06</td>\n",
       "      <td>http://mp.weixin.qq.com/s?__biz=MzU4ODI2Nzg5Ng...</td>\n",
       "      <td>熊孩子</td>\n",
       "    </tr>\n",
       "    <tr>\n",
       "      <th>9</th>\n",
       "      <td>拖堂说</td>\n",
       "      <td>2018-01-20</td>\n",
       "      <td>http://mp.weixin.qq.com/s?__biz=MzU4ODI2Nzg5Ng...</td>\n",
       "      <td>无法分类</td>\n",
       "    </tr>\n",
       "    <tr>\n",
       "      <th>10</th>\n",
       "      <td>戏精的一天</td>\n",
       "      <td>2018-01-06</td>\n",
       "      <td>http://mp.weixin.qq.com/s?__biz=MzU4ODI2Nzg5Ng...</td>\n",
       "      <td>戏精</td>\n",
       "    </tr>\n",
       "    <tr>\n",
       "      <th>11</th>\n",
       "      <td>其实大家都爱你</td>\n",
       "      <td>2017-12-24</td>\n",
       "      <td>http://mp.weixin.qq.com/s?__biz=MzU4ODI2Nzg5Ng...</td>\n",
       "      <td>无法分类</td>\n",
       "    </tr>\n",
       "    <tr>\n",
       "      <th>12</th>\n",
       "      <td>王录才级长的故事(教你说rap)</td>\n",
       "      <td>2017-12-23</td>\n",
       "      <td>http://mp.weixin.qq.com/s?__biz=MzU4ODI2Nzg5Ng...</td>\n",
       "      <td>级长</td>\n",
       "    </tr>\n",
       "    <tr>\n",
       "      <th>13</th>\n",
       "      <td>幼儿园里那些你不知道的事情</td>\n",
       "      <td>2017-11-25</td>\n",
       "      <td>http://mp.weixin.qq.com/s?__biz=MzU4ODI2Nzg5Ng...</td>\n",
       "      <td>无法分类</td>\n",
       "    </tr>\n",
       "    <tr>\n",
       "      <th>14</th>\n",
       "      <td>为什么我们要被“励志”？</td>\n",
       "      <td>2017-11-18</td>\n",
       "      <td>http://mp.weixin.qq.com/s?__biz=MzU4ODI2Nzg5Ng...</td>\n",
       "      <td>励志</td>\n",
       "    </tr>\n",
       "    <tr>\n",
       "      <th>15</th>\n",
       "      <td>爱我吗！！</td>\n",
       "      <td>2017-11-15</td>\n",
       "      <td>http://mp.weixin.qq.com/s?__biz=MzU4ODI2Nzg5Ng...</td>\n",
       "      <td>无法分类</td>\n",
       "    </tr>\n",
       "    <tr>\n",
       "      <th>16</th>\n",
       "      <td>某马姓男子与中国人的爱恨情仇</td>\n",
       "      <td>2017-11-11</td>\n",
       "      <td>http://mp.weixin.qq.com/s?__biz=MzU4ODI2Nzg5Ng...</td>\n",
       "      <td>无法分类</td>\n",
       "    </tr>\n",
       "    <tr>\n",
       "      <th>17</th>\n",
       "      <td>什么？XX学校居然放假了？</td>\n",
       "      <td>2017-10-15</td>\n",
       "      <td>http://mp.weixin.qq.com/s?__biz=MzU4ODI2Nzg5Ng...</td>\n",
       "      <td>放假</td>\n",
       "    </tr>\n",
       "    <tr>\n",
       "      <th>18</th>\n",
       "      <td>与你相遇，好幸运</td>\n",
       "      <td>2017-10-04</td>\n",
       "      <td>http://mp.weixin.qq.com/s?__biz=MzU4ODI2Nzg5Ng...</td>\n",
       "      <td>幸运</td>\n",
       "    </tr>\n",
       "  </tbody>\n",
       "</table>\n",
       "</div>"
      ],
      "text/plain": [
       "               title create_time  \\\n",
       "0      什么？XX学校居然放假了？  2017-10-15   \n",
       "1           与你相遇，好幸运  2017-10-04   \n",
       "2              网新练习生  2019-05-17   \n",
       "3              我想你了。  2019-05-15   \n",
       "4     三毛时光，只剩下三根毛的时光  2019-01-22   \n",
       "5       我是不是真的是一条咸鱼？  2018-08-10   \n",
       "6   没钱旅游？这种低成本旅游帮你忙！  2018-06-19   \n",
       "7          考差了如何舒缓情绪  2018-03-10   \n",
       "8            春节熊孩子指南  2018-02-06   \n",
       "9                拖堂说  2018-01-20   \n",
       "10             戏精的一天  2018-01-06   \n",
       "11           其实大家都爱你  2017-12-24   \n",
       "12  王录才级长的故事(教你说rap)  2017-12-23   \n",
       "13     幼儿园里那些你不知道的事情  2017-11-25   \n",
       "14      为什么我们要被“励志”？  2017-11-18   \n",
       "15             爱我吗！！  2017-11-15   \n",
       "16    某马姓男子与中国人的爱恨情仇  2017-11-11   \n",
       "17     什么？XX学校居然放假了？  2017-10-15   \n",
       "18          与你相遇，好幸运  2017-10-04   \n",
       "\n",
       "                                                 link variable  \n",
       "0   http://mp.weixin.qq.com/s?__biz=MzU4ODI2Nzg5Ng...       放假  \n",
       "1   http://mp.weixin.qq.com/s?__biz=MzU4ODI2Nzg5Ng...       幸运  \n",
       "2   http://mp.weixin.qq.com/s?__biz=MzU4ODI2Nzg5Ng...     无法分类  \n",
       "3   http://mp.weixin.qq.com/s?__biz=MzU4ODI2Nzg5Ng...     无法分类  \n",
       "4   http://mp.weixin.qq.com/s?__biz=MzU4ODI2Nzg5Ng...     无法分类  \n",
       "5   http://mp.weixin.qq.com/s?__biz=MzU4ODI2Nzg5Ng...     无法分类  \n",
       "6   http://mp.weixin.qq.com/s?__biz=MzU4ODI2Nzg5Ng...     无法分类  \n",
       "7   http://mp.weixin.qq.com/s?__biz=MzU4ODI2Nzg5Ng...     无法分类  \n",
       "8   http://mp.weixin.qq.com/s?__biz=MzU4ODI2Nzg5Ng...      熊孩子  \n",
       "9   http://mp.weixin.qq.com/s?__biz=MzU4ODI2Nzg5Ng...     无法分类  \n",
       "10  http://mp.weixin.qq.com/s?__biz=MzU4ODI2Nzg5Ng...       戏精  \n",
       "11  http://mp.weixin.qq.com/s?__biz=MzU4ODI2Nzg5Ng...     无法分类  \n",
       "12  http://mp.weixin.qq.com/s?__biz=MzU4ODI2Nzg5Ng...       级长  \n",
       "13  http://mp.weixin.qq.com/s?__biz=MzU4ODI2Nzg5Ng...     无法分类  \n",
       "14  http://mp.weixin.qq.com/s?__biz=MzU4ODI2Nzg5Ng...       励志  \n",
       "15  http://mp.weixin.qq.com/s?__biz=MzU4ODI2Nzg5Ng...     无法分类  \n",
       "16  http://mp.weixin.qq.com/s?__biz=MzU4ODI2Nzg5Ng...     无法分类  \n",
       "17  http://mp.weixin.qq.com/s?__biz=MzU4ODI2Nzg5Ng...       放假  \n",
       "18  http://mp.weixin.qq.com/s?__biz=MzU4ODI2Nzg5Ng...       幸运  "
      ]
     },
     "execution_count": 66,
     "metadata": {},
     "output_type": "execute_result"
    }
   ],
   "source": [
    "df_o = df_url_out.join(df_cat).replace(\"\", np.nan).fillna(\"无法分类\")\n",
    "df_o"
   ]
  },
  {
   "cell_type": "code",
   "execution_count": 67,
   "metadata": {},
   "outputs": [
    {
     "data": {
      "text/html": [
       "<div>\n",
       "<style scoped>\n",
       "    .dataframe tbody tr th:only-of-type {\n",
       "        vertical-align: middle;\n",
       "    }\n",
       "\n",
       "    .dataframe tbody tr th {\n",
       "        vertical-align: top;\n",
       "    }\n",
       "\n",
       "    .dataframe thead th {\n",
       "        text-align: right;\n",
       "    }\n",
       "</style>\n",
       "<table border=\"1\" class=\"dataframe\">\n",
       "  <thead>\n",
       "    <tr style=\"text-align: right;\">\n",
       "      <th></th>\n",
       "      <th>title</th>\n",
       "      <th>create_time</th>\n",
       "      <th>link</th>\n",
       "      <th>variable</th>\n",
       "    </tr>\n",
       "  </thead>\n",
       "  <tbody>\n",
       "  </tbody>\n",
       "</table>\n",
       "</div>"
      ],
      "text/plain": [
       "Empty DataFrame\n",
       "Columns: [title, create_time, link, variable]\n",
       "Index: []"
      ]
     },
     "execution_count": 67,
     "metadata": {},
     "output_type": "execute_result"
    }
   ],
   "source": [
    "df_o[df_o.title.str.contains(\"腾讯\")]"
   ]
  },
  {
   "cell_type": "code",
   "execution_count": 68,
   "metadata": {},
   "outputs": [
    {
     "data": {
      "text/html": [
       "<div>\n",
       "<style scoped>\n",
       "    .dataframe tbody tr th:only-of-type {\n",
       "        vertical-align: middle;\n",
       "    }\n",
       "\n",
       "    .dataframe tbody tr th {\n",
       "        vertical-align: top;\n",
       "    }\n",
       "\n",
       "    .dataframe thead th {\n",
       "        text-align: right;\n",
       "    }\n",
       "</style>\n",
       "<table border=\"1\" class=\"dataframe\">\n",
       "  <thead>\n",
       "    <tr style=\"text-align: right;\">\n",
       "      <th></th>\n",
       "      <th>title</th>\n",
       "    </tr>\n",
       "    <tr>\n",
       "      <th>variable</th>\n",
       "      <th></th>\n",
       "    </tr>\n",
       "  </thead>\n",
       "  <tbody>\n",
       "    <tr>\n",
       "      <th>无法分类</th>\n",
       "      <td>11</td>\n",
       "    </tr>\n",
       "    <tr>\n",
       "      <th>幸运</th>\n",
       "      <td>2</td>\n",
       "    </tr>\n",
       "    <tr>\n",
       "      <th>放假</th>\n",
       "      <td>2</td>\n",
       "    </tr>\n",
       "    <tr>\n",
       "      <th>励志</th>\n",
       "      <td>1</td>\n",
       "    </tr>\n",
       "    <tr>\n",
       "      <th>戏精</th>\n",
       "      <td>1</td>\n",
       "    </tr>\n",
       "    <tr>\n",
       "      <th>熊孩子</th>\n",
       "      <td>1</td>\n",
       "    </tr>\n",
       "    <tr>\n",
       "      <th>级长</th>\n",
       "      <td>1</td>\n",
       "    </tr>\n",
       "  </tbody>\n",
       "</table>\n",
       "</div>"
      ],
      "text/plain": [
       "          title\n",
       "variable       \n",
       "无法分类         11\n",
       "幸运            2\n",
       "放假            2\n",
       "励志            1\n",
       "戏精            1\n",
       "熊孩子           1\n",
       "级长            1"
      ]
     },
     "execution_count": 68,
     "metadata": {},
     "output_type": "execute_result"
    }
   ],
   "source": [
    "df_stats = df_o.groupby(by=\"variable\").agg({\"title\":\"count\"}).sort_values(by=\"title\", ascending=False)\n",
    "df_stats"
   ]
  },
  {
   "cell_type": "code",
   "execution_count": 69,
   "metadata": {},
   "outputs": [],
   "source": [
    "df_account.columns.name = \"rel_accounts\"\n",
    "df_o.columns.name = \"url_cat\"\n",
    "df_stats.columns.name = \"stats\""
   ]
  },
  {
   "cell_type": "code",
   "execution_count": 70,
   "metadata": {},
   "outputs": [],
   "source": [
    "_df_.columns.name\n",
    "# Get the xlsxwriter workbook and worksheet objects.  \n",
    "with pd.ExcelWriter(fn[\"output\"][\"公众号_xlsx\"].format(公众号=公众号)) as writer:\n",
    "    workbook  = writer.book\n",
    "\n",
    "    for _df_ in [df_account, df_o, df_stats]:\n",
    "        _df_.to_excel(writer, sheet_name = _df_.columns.name)"
   ]
  },
  {
   "cell_type": "code",
   "execution_count": null,
   "metadata": {},
   "outputs": [],
   "source": []
  },
  {
   "cell_type": "code",
   "execution_count": null,
   "metadata": {},
   "outputs": [],
   "source": []
  },
  {
   "cell_type": "code",
   "execution_count": null,
   "metadata": {},
   "outputs": [],
   "source": []
  },
  {
   "cell_type": "code",
   "execution_count": null,
   "metadata": {},
   "outputs": [],
   "source": []
  },
  {
   "cell_type": "code",
   "execution_count": null,
   "metadata": {},
   "outputs": [],
   "source": []
  },
  {
   "cell_type": "code",
   "execution_count": null,
   "metadata": {},
   "outputs": [],
   "source": []
  },
  {
   "cell_type": "code",
   "execution_count": null,
   "metadata": {},
   "outputs": [],
   "source": []
  },
  {
   "cell_type": "code",
   "execution_count": null,
   "metadata": {},
   "outputs": [],
   "source": []
  },
  {
   "cell_type": "code",
   "execution_count": null,
   "metadata": {},
   "outputs": [],
   "source": []
  },
  {
   "cell_type": "code",
   "execution_count": null,
   "metadata": {},
   "outputs": [],
   "source": []
  },
  {
   "cell_type": "code",
   "execution_count": null,
   "metadata": {},
   "outputs": [],
   "source": []
  },
  {
   "cell_type": "code",
   "execution_count": null,
   "metadata": {},
   "outputs": [],
   "source": []
  },
  {
   "cell_type": "code",
   "execution_count": null,
   "metadata": {},
   "outputs": [],
   "source": []
  },
  {
   "cell_type": "code",
   "execution_count": null,
   "metadata": {},
   "outputs": [],
   "source": []
  },
  {
   "cell_type": "code",
   "execution_count": null,
   "metadata": {},
   "outputs": [],
   "source": []
  },
  {
   "cell_type": "code",
   "execution_count": null,
   "metadata": {},
   "outputs": [],
   "source": []
  },
  {
   "cell_type": "code",
   "execution_count": null,
   "metadata": {},
   "outputs": [],
   "source": []
  },
  {
   "cell_type": "code",
   "execution_count": null,
   "metadata": {},
   "outputs": [],
   "source": []
  },
  {
   "cell_type": "code",
   "execution_count": null,
   "metadata": {},
   "outputs": [],
   "source": []
  },
  {
   "cell_type": "code",
   "execution_count": null,
   "metadata": {},
   "outputs": [],
   "source": []
  },
  {
   "cell_type": "code",
   "execution_count": null,
   "metadata": {},
   "outputs": [],
   "source": []
  },
  {
   "cell_type": "code",
   "execution_count": null,
   "metadata": {},
   "outputs": [],
   "source": []
  },
  {
   "cell_type": "code",
   "execution_count": null,
   "metadata": {},
   "outputs": [],
   "source": []
  },
  {
   "cell_type": "code",
   "execution_count": null,
   "metadata": {},
   "outputs": [],
   "source": []
  },
  {
   "cell_type": "code",
   "execution_count": null,
   "metadata": {},
   "outputs": [],
   "source": []
  },
  {
   "cell_type": "code",
   "execution_count": null,
   "metadata": {},
   "outputs": [],
   "source": []
  }
 ],
 "metadata": {
  "kernelspec": {
   "display_name": "Python 3",
   "language": "python",
   "name": "python3"
  },
  "language_info": {
   "codemirror_mode": {
    "name": "ipython",
    "version": 3
   },
   "file_extension": ".py",
   "mimetype": "text/x-python",
   "name": "python",
   "nbconvert_exporter": "python",
   "pygments_lexer": "ipython3",
   "version": "3.7.3"
  },
  "toc": {
   "base_numbering": 1,
   "nav_menu": {},
   "number_sections": true,
   "sideBar": true,
   "skip_h1_title": false,
   "title_cell": "Table of Contents",
   "title_sidebar": "Contents",
   "toc_cell": false,
   "toc_position": {},
   "toc_section_display": true,
   "toc_window_display": false
  }
 },
 "nbformat": 4,
 "nbformat_minor": 4
}
