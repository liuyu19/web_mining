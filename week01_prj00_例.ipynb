{
 "cells": [
  {
   "cell_type": "markdown",
   "metadata": {
    "slideshow": {
     "slide_type": "slide"
    }
   },
   "source": [
    "# 20春_Web数据挖掘\n",
    "# 项目0 by 廖汉腾, 许智超"
   ]
  },
  {
   "cell_type": "markdown",
   "metadata": {
    "slideshow": {
     "slide_type": "fragment"
    }
   },
   "source": [
    "### 抄用最人性化的模块\n",
    "* 来源 [最新的爬虫工具requests-html](https://www.cnblogs.com/fnng/p/8948015.html)\n",
    "* 文档 [requests-html](https://requests-html.kennethreitz.org/)\n",
    "\n",
    "####  项目0.A cnblogs 新闻"
   ]
  },
  {
   "cell_type": "code",
   "execution_count": 1,
   "metadata": {
    "slideshow": {
     "slide_type": "subslide"
    }
   },
   "outputs": [
    {
     "name": "stdout",
     "output_type": "stream",
     "text": [
      "三个网红的十年：愤然一跃，坠入大海\n",
      "{'https://news.cnblogs.com/n/657715/'}\n",
      "马斯克要发4.2万颗卫星 为何中国版“星链”迫在眉睫\n",
      "{'https://news.cnblogs.com/n/657714/'}\n",
      "马云的口罩之交\n",
      "{'https://news.cnblogs.com/n/657658/'}\n",
      "疫情中的快递、外卖员：我们在工作 就代表城市在运转\n",
      "{'https://news.cnblogs.com/n/657645/'}\n",
      "比尔盖茨退休：这位世界首富的峥嵘65年\n",
      "{'https://news.cnblogs.com/n/657621/'}\n",
      "上海大学副教授“变身”萝莉，自制软件二次元上网课\n",
      "{'https://news.cnblogs.com/n/657564/'}\n",
      "微软放弃继续开发 Visual Basic\n",
      "{'https://news.cnblogs.com/n/657614/'}\n",
      "Soul合伙人被抓，恶意竞争背后是创业者初心尽失\n",
      "{'https://news.cnblogs.com/n/657606/'}\n",
      "“3·15”曝光高炮新闻的幕后推手\n",
      "{'https://news.cnblogs.com/n/657565/'}\n",
      "张朝阳与马云的颠倒人生\n",
      "{'https://news.cnblogs.com/n/657547/'}\n",
      "“ 不要放过那个 B 站 ”\n",
      "{'https://news.cnblogs.com/n/657546/'}\n",
      "Nature：AI增强版“滴血测癌”，准确率高达86%！\n",
      "{'https://news.cnblogs.com/n/657480/'}\n",
      "白天添瓦，晚上拆墙，这群工程师把苹果的秘密扒个底朝天\n",
      "{'https://news.cnblogs.com/n/657488/'}\n",
      "孙正义欲捐 100 万份病毒检测试剂，两小时被日本网友批到放弃\n",
      "{'https://news.cnblogs.com/n/657493/'}\n",
      "养猪、遛狗、养鸡能赚钱，骗了谁？\n",
      "{'https://news.cnblogs.com/n/657464/'}\n",
      "马斯克先生，请你来了中国也不要太嚣张\n",
      "{'https://news.cnblogs.com/n/657456/'}\n",
      "产品视频被曝合成，用AI造出4个工程师，这家公司火了\n",
      "{'https://news.cnblogs.com/n/657454/'}\n",
      "微软发布.NET Core卸载工具 Windows和macOS平台已上线\n",
      "{'https://news.cnblogs.com/n/657435/'}\n"
     ]
    }
   ],
   "source": [
    "from requests_html import HTMLSession\n",
    "\n",
    "session = HTMLSession()\n",
    "\n",
    "r = session.get(\"https://news.cnblogs.com/n/recommend\")\n",
    "\n",
    "# 通过CSS找到新闻标签\n",
    "news = r.html.find('h2.news_entry > a')\n",
    "\n",
    "for new in news:\n",
    "    print(new.text)  # 获得新闻标题\n",
    "    print(new.absolute_links)  # 获得新闻链接"
   ]
  },
  {
   "cell_type": "markdown",
   "metadata": {
    "slideshow": {
     "slide_type": "slide"
    }
   },
   "source": [
    "### 不是算Python的内容：HTML 之 xpath 与 selector\n",
    "\n",
    "接下来需要选择器selector抽取数据img，借用HTML的\"结构\"性(chrome要从页面选到结构，你懂的)，有两种可能，必记下来\n",
    "* xpath \n",
    "* CSS selector\n",
    "\n",
    "试第一个和另一个，看看有什麽规律 (侦探活)\n",
    "Chrome Console下使用Javascript\n",
    "* xpath: \n",
    "```$x(\"放这\")```\n",
    "\n",
    "* CSS: \n",
    "``` $(\"放这\") ```\n",
    "\n",
    "-----\n",
    "\n",
    "####  项目0.B liepin 工作"
   ]
  },
  {
   "cell_type": "code",
   "execution_count": 2,
   "metadata": {
    "slideshow": {
     "slide_type": "subslide"
    }
   },
   "outputs": [
    {
     "name": "stdout",
     "output_type": "stream",
     "text": [
      "web mining Engineer\n",
      "{'https://www.liepin.com/job/1917951351.shtml'}\n",
      "Discovery-Computational Structural Biologist\n",
      "{'https://www.liepin.com/job/1914180892.shtml'}\n",
      "( Senior） Research Manager\n",
      "{'https://www.liepin.com/job/1923198421.shtml'}\n",
      "(Associate）research Director\n",
      "{'https://www.liepin.com/job/1920754473.shtml'}\n",
      "ITA senior AssociateG00065\n",
      "{'https://www.liepin.com/job/1926657791.shtml'}\n",
      "SAP ApplicationDevelopment Project Lead\n",
      "{'https://www.liepin.com/job/1926638333.shtml'}\n",
      "计算机化学研究员 Scientist of Computational Chemistry-00174\n",
      "{'https://www.liepin.com/job/1915660198.shtml'}\n",
      "Account Manager 客户经理-大数据平台（快消-零售）\n",
      "{'https://www.liepin.com/job/1923455945.shtml'}\n",
      "Machine Learning Deployment Engineer\n",
      "{'https://www.liepin.com/a/19147549.shtml'}\n",
      "NLP 自然语言处理 专家\n",
      "{'https://www.liepin.com/a/18073569.shtml'}\n",
      "AI软件工程师\n",
      "{'https://www.liepin.com/job/1925171311.shtml'}\n",
      "Data Service Librarian\n",
      "{'https://www.liepin.com/job/1922083517.shtml'}\n",
      "Data Scientist\n",
      "{'https://www.liepin.com/a/19176709.shtml'}\n",
      "Java Leader\n",
      "{'https://www.liepin.com/a/18476197.shtml'}\n",
      "自然语言处理研究员\n",
      "{'https://www.liepin.com/job/198521942.shtml'}\n",
      "Head of Solution, Greater China\n",
      "{'https://www.liepin.com/job/1923087525.shtml'}\n",
      "Platform Architect, TDC\n",
      "{'https://www.liepin.com/job/199260312.shtml'}\n",
      "Senior Manager, Application Architect\n",
      "{'https://www.liepin.com/job/199625698.shtml'}\n",
      "Java Developer(Java开发员)\n",
      "{'https://www.liepin.com/job/198943933.shtml'}\n",
      "Manager, Solution Architect\n",
      "{'https://www.liepin.com/job/198814215.shtml'}\n",
      "Senior Analyst, China Oil Markets 石油能源分析师\n",
      "{'https://www.liepin.com/job/1925812373.shtml'}\n",
      "Shared Service Manager\n",
      "{'https://www.liepin.com/job/1922035413.shtml'}\n",
      "IT Programmer\n",
      "{'https://www.liepin.com/job/199485158.shtml'}\n",
      "Head of Solution\n",
      "{'https://www.liepin.com/a/18296323.shtml'}\n",
      "Machine Learning Deployment Engineer\n",
      "{'https://www.liepin.com/job/1926370455.shtml'}\n",
      "Machine Learning Deployment Engineer\n",
      "{'https://www.liepin.com/job/1926370453.shtml'}\n",
      "Business Analyst\n",
      "{'https://www.liepin.com/job/1925159507.shtml'}\n",
      "Mobile Data Analyst手游数据分析师\n",
      "{'https://www.liepin.com/job/1924886823.shtml'}\n",
      "Ecommerce Data and Insight Manager\n",
      "{'https://www.liepin.com/job/1915662352.shtml'}\n",
      "资深数据分析师 Senior Data Analyst (Mobile)\n",
      "{'https://www.liepin.com/job/1915145798.shtml'}\n",
      "Senior PC Software Engineer/高级PC软件工程师\n",
      "{'https://www.liepin.com/job/1919057165.shtml'}\n",
      "AI Engineer\n",
      "{'https://www.liepin.com/job/1924674841.shtml'}\n",
      "Developer – WeChat, Microsoft LUIS, BotFramework and NLP\n",
      "{'https://www.liepin.com/job/1922703265.shtml'}\n",
      "AI NLP Engineer\n",
      "{'https://www.liepin.com/job/1915650614.shtml'}\n",
      "智能技术开发主管\n",
      "{'https://www.liepin.com/job/1924965947.shtml'}\n",
      "java leader\n",
      "{'https://www.liepin.com/a/18327543.shtml'}\n",
      "Associate Director, Global Risk Management\n",
      "{'https://www.liepin.com/job/1926267845.shtml'}\n",
      "Risk Management Specialist\n",
      "{'https://www.liepin.com/job/1926256361.shtml'}\n",
      "web前端技术经理\n",
      "{'https://www.liepin.com/a/18919987.shtml'}\n",
      "某美资电子科技公司 Machine Learning Deployment Engineer\n",
      "{'https://www.liepin.com/job/1926288075.shtml'}\n"
     ]
    }
   ],
   "source": [
    "from requests_html import HTMLSession\n",
    "\n",
    "session = HTMLSession()\n",
    "\n",
    "r = session.get(\"https://www.liepin.com/zhaopin/?key=web+mining\")\n",
    "\n",
    "# 通过xpath找到工作标签\n",
    "news = r.html.xpath('//div[@class=\"job-info\"]/h3/a')\n",
    "\n",
    "for new in news:\n",
    "    print(new.text)  # 获得工作标题\n",
    "    print(new.absolute_links)  # 获得工作链接"
   ]
  },
  {
   "cell_type": "markdown",
   "metadata": {
    "slideshow": {
     "slide_type": "subslide"
    }
   },
   "source": [
    "####  展示图\n",
    "* Jupyter 可用的魔法之一 IPython 展示模块, HTML转码"
   ]
  },
  {
   "cell_type": "code",
   "execution_count": 3,
   "metadata": {
    "slideshow": {
     "slide_type": "fragment"
    }
   },
   "outputs": [
    {
     "data": {
      "text/html": [
       "<img src=\"https://httpstatusdogs.com/img/418.jpg\" alt=\"\">"
      ],
      "text/plain": [
       "<IPython.core.display.HTML object>"
      ]
     },
     "metadata": {},
     "output_type": "display_data"
    }
   ],
   "source": [
    "from IPython.core.display import display, HTML\n",
    "display(HTML('<img src=\"https://httpstatusdogs.com/img/418.jpg\" alt=\"\">'))"
   ]
  },
  {
   "cell_type": "markdown",
   "metadata": {
    "slideshow": {
     "slide_type": "slide"
    }
   },
   "source": [
    "####  展示图\n",
    "* Jupyter 可用的魔法之一 IPython 展示模块, HTML转码"
   ]
  },
  {
   "cell_type": "code",
   "execution_count": 4,
   "metadata": {
    "slideshow": {
     "slide_type": "fragment"
    }
   },
   "outputs": [
    {
     "data": {
      "text/markdown": [
       "![](https://httpstatusdogs.com/img/418.jpg)"
      ],
      "text/plain": [
       "<IPython.core.display.Markdown object>"
      ]
     },
     "metadata": {},
     "output_type": "display_data"
    }
   ],
   "source": [
    "from IPython.core.display import display, Markdown\n",
    "display(Markdown('![](https://httpstatusdogs.com/img/418.jpg)'))"
   ]
  },
  {
   "cell_type": "markdown",
   "metadata": {
    "slideshow": {
     "slide_type": "slide"
    }
   },
   "source": [
    "### 抓抓图片?\n",
    "[图片新闻_Bing](http://www.gov.cn/xinwen/tupian/index.htm)\n",
    "\n",
    "####  项目0.C 图片新闻"
   ]
  },
  {
   "cell_type": "code",
   "execution_count": 5,
   "metadata": {
    "slideshow": {
     "slide_type": "fragment"
    }
   },
   "outputs": [
    {
     "name": "stdout",
     "output_type": "stream",
     "text": [
      "data:image/png;base64,iVBORw0KGgoAAAANSUhEUgAAAAEAAAABCAQAAAC1HAwCAAAAC0lEQVR42mNgYAAAAAMAASsJTYQAAAAASUVORK5CYII=\n"
     ]
    },
    {
     "data": {
      "text/markdown": [
       "![](data:image/png;base64,iVBORw0KGgoAAAANSUhEUgAAAAEAAAABCAQAAAC1HAwCAAAAC0lEQVR42mNgYAAAAAMAASsJTYQAAAAASUVORK5CYII=)"
      ],
      "text/plain": [
       "<IPython.core.display.Markdown object>"
      ]
     },
     "metadata": {},
     "output_type": "display_data"
    },
    {
     "name": "stdout",
     "output_type": "stream",
     "text": [
      "https://tse1-mm.cn.bing.net/th/id/OET.2aa2a3766b5d4d2d9d9fed3d713f33eb?w=272&h=272&c=7&rs=1&o=5&pid=1.9\n"
     ]
    },
    {
     "data": {
      "text/markdown": [
       "![](https://tse1-mm.cn.bing.net/th/id/OET.2aa2a3766b5d4d2d9d9fed3d713f33eb?w=272&h=272&c=7&rs=1&o=5&pid=1.9)"
      ],
      "text/plain": [
       "<IPython.core.display.Markdown object>"
      ]
     },
     "metadata": {},
     "output_type": "display_data"
    },
    {
     "name": "stdout",
     "output_type": "stream",
     "text": [
      "https://tse1-mm.cn.bing.net/th/id/OET.3886c7bdd81240f3abe5f8f8cee4fa0e?w=272&h=135&c=7&rs=1&o=5&pid=1.9\n"
     ]
    },
    {
     "data": {
      "text/markdown": [
       "![](https://tse1-mm.cn.bing.net/th/id/OET.3886c7bdd81240f3abe5f8f8cee4fa0e?w=272&h=135&c=7&rs=1&o=5&pid=1.9)"
      ],
      "text/plain": [
       "<IPython.core.display.Markdown object>"
      ]
     },
     "metadata": {},
     "output_type": "display_data"
    },
    {
     "name": "stdout",
     "output_type": "stream",
     "text": [
      "https://tse1-mm.cn.bing.net/th/id/OET.9fcacf06eb3d40fd8569effcff00fe5e?w=272&h=135&c=7&rs=1&o=5&pid=1.9\n"
     ]
    },
    {
     "data": {
      "text/markdown": [
       "![](https://tse1-mm.cn.bing.net/th/id/OET.9fcacf06eb3d40fd8569effcff00fe5e?w=272&h=135&c=7&rs=1&o=5&pid=1.9)"
      ],
      "text/plain": [
       "<IPython.core.display.Markdown object>"
      ]
     },
     "metadata": {},
     "output_type": "display_data"
    },
    {
     "name": "stdout",
     "output_type": "stream",
     "text": [
      "https://tse1-mm.cn.bing.net/th/id/OET.ff4be71371bc4e77a530d8710d68b450?w=272&h=135&c=7&rs=1&o=5&pid=1.9\n"
     ]
    },
    {
     "data": {
      "text/markdown": [
       "![](https://tse1-mm.cn.bing.net/th/id/OET.ff4be71371bc4e77a530d8710d68b450?w=272&h=135&c=7&rs=1&o=5&pid=1.9)"
      ],
      "text/plain": [
       "<IPython.core.display.Markdown object>"
      ]
     },
     "metadata": {},
     "output_type": "display_data"
    },
    {
     "name": "stdout",
     "output_type": "stream",
     "text": [
      "https://tse1-mm.cn.bing.net/th/id/OET.4d9a5ae6f27547e7b4b5436509e443ed?w=272&h=135&c=7&rs=1&o=5&pid=1.9\n"
     ]
    },
    {
     "data": {
      "text/markdown": [
       "![](https://tse1-mm.cn.bing.net/th/id/OET.4d9a5ae6f27547e7b4b5436509e443ed?w=272&h=135&c=7&rs=1&o=5&pid=1.9)"
      ],
      "text/plain": [
       "<IPython.core.display.Markdown object>"
      ]
     },
     "metadata": {},
     "output_type": "display_data"
    },
    {
     "name": "stdout",
     "output_type": "stream",
     "text": [
      "https://tse1-mm.cn.bing.net/th/id/OET.b4631c5bfcfc46f8b435456813f6867d?w=272&h=135&c=7&rs=1&o=5&pid=1.9\n"
     ]
    },
    {
     "data": {
      "text/markdown": [
       "![](https://tse1-mm.cn.bing.net/th/id/OET.b4631c5bfcfc46f8b435456813f6867d?w=272&h=135&c=7&rs=1&o=5&pid=1.9)"
      ],
      "text/plain": [
       "<IPython.core.display.Markdown object>"
      ]
     },
     "metadata": {},
     "output_type": "display_data"
    },
    {
     "name": "stdout",
     "output_type": "stream",
     "text": [
      "https://tse1-mm.cn.bing.net/th/id/OET.27c986d8239a4d23875622c8e5791eda?w=272&h=135&c=7&rs=1&o=5&pid=1.9\n"
     ]
    },
    {
     "data": {
      "text/markdown": [
       "![](https://tse1-mm.cn.bing.net/th/id/OET.27c986d8239a4d23875622c8e5791eda?w=272&h=135&c=7&rs=1&o=5&pid=1.9)"
      ],
      "text/plain": [
       "<IPython.core.display.Markdown object>"
      ]
     },
     "metadata": {},
     "output_type": "display_data"
    },
    {
     "name": "stdout",
     "output_type": "stream",
     "text": [
      "https://tse1-mm.cn.bing.net/th/id/OET.53867c33c4b544bcb1d1816b0d999e4c?w=135&h=135&c=7&rs=1&o=5&pid=1.9\n"
     ]
    },
    {
     "data": {
      "text/markdown": [
       "![](https://tse1-mm.cn.bing.net/th/id/OET.53867c33c4b544bcb1d1816b0d999e4c?w=135&h=135&c=7&rs=1&o=5&pid=1.9)"
      ],
      "text/plain": [
       "<IPython.core.display.Markdown object>"
      ]
     },
     "metadata": {},
     "output_type": "display_data"
    },
    {
     "name": "stdout",
     "output_type": "stream",
     "text": [
      "https://tse1-mm.cn.bing.net/th/id/OET.366d0d10b68e4b839d1f4bba028ccd23?w=135&h=135&c=7&rs=1&o=5&pid=1.9\n"
     ]
    },
    {
     "data": {
      "text/markdown": [
       "![](https://tse1-mm.cn.bing.net/th/id/OET.366d0d10b68e4b839d1f4bba028ccd23?w=135&h=135&c=7&rs=1&o=5&pid=1.9)"
      ],
      "text/plain": [
       "<IPython.core.display.Markdown object>"
      ]
     },
     "metadata": {},
     "output_type": "display_data"
    },
    {
     "name": "stdout",
     "output_type": "stream",
     "text": [
      "https://tse1-mm.cn.bing.net/th/id/OET.020bc8604f2d4a188971fcb17aa8a905?w=135&h=135&c=7&rs=1&o=5&pid=1.9\n"
     ]
    },
    {
     "data": {
      "text/markdown": [
       "![](https://tse1-mm.cn.bing.net/th/id/OET.020bc8604f2d4a188971fcb17aa8a905?w=135&h=135&c=7&rs=1&o=5&pid=1.9)"
      ],
      "text/plain": [
       "<IPython.core.display.Markdown object>"
      ]
     },
     "metadata": {},
     "output_type": "display_data"
    },
    {
     "name": "stdout",
     "output_type": "stream",
     "text": [
      "https://tse1-mm.cn.bing.net/th/id/OET.9982eecb74f243d2a805c077d0466fb6?w=135&h=135&c=7&rs=1&o=5&pid=1.9\n"
     ]
    },
    {
     "data": {
      "text/markdown": [
       "![](https://tse1-mm.cn.bing.net/th/id/OET.9982eecb74f243d2a805c077d0466fb6?w=135&h=135&c=7&rs=1&o=5&pid=1.9)"
      ],
      "text/plain": [
       "<IPython.core.display.Markdown object>"
      ]
     },
     "metadata": {},
     "output_type": "display_data"
    },
    {
     "name": "stdout",
     "output_type": "stream",
     "text": [
      "https://tse1-mm.cn.bing.net/th/id/OET.ac947abd05814bb28329fdf32965e239?w=272&h=272&c=7&rs=1&o=5&pid=1.9\n"
     ]
    },
    {
     "data": {
      "text/markdown": [
       "![](https://tse1-mm.cn.bing.net/th/id/OET.ac947abd05814bb28329fdf32965e239?w=272&h=272&c=7&rs=1&o=5&pid=1.9)"
      ],
      "text/plain": [
       "<IPython.core.display.Markdown object>"
      ]
     },
     "metadata": {},
     "output_type": "display_data"
    },
    {
     "name": "stdout",
     "output_type": "stream",
     "text": [
      "https://tse1-mm.cn.bing.net/th/id/OET.d614e356ff3648ea8385bcd68546a74c?w=135&h=272&c=7&rs=1&o=5&pid=1.9\n"
     ]
    },
    {
     "data": {
      "text/markdown": [
       "![](https://tse1-mm.cn.bing.net/th/id/OET.d614e356ff3648ea8385bcd68546a74c?w=135&h=272&c=7&rs=1&o=5&pid=1.9)"
      ],
      "text/plain": [
       "<IPython.core.display.Markdown object>"
      ]
     },
     "metadata": {},
     "output_type": "display_data"
    },
    {
     "name": "stdout",
     "output_type": "stream",
     "text": [
      "https://tse1-mm.cn.bing.net/th/id/OET.e25f83524d9f4a868bdbdf1919dec3c0?w=135&h=272&c=7&rs=1&o=5&pid=1.9\n"
     ]
    },
    {
     "data": {
      "text/markdown": [
       "![](https://tse1-mm.cn.bing.net/th/id/OET.e25f83524d9f4a868bdbdf1919dec3c0?w=135&h=272&c=7&rs=1&o=5&pid=1.9)"
      ],
      "text/plain": [
       "<IPython.core.display.Markdown object>"
      ]
     },
     "metadata": {},
     "output_type": "display_data"
    },
    {
     "name": "stdout",
     "output_type": "stream",
     "text": [
      "https://tse1-mm.cn.bing.net/th/id/OET.938d4544da29427fa7278cb7c7351fb6?w=135&h=272&c=7&rs=1&o=5&pid=1.9\n"
     ]
    },
    {
     "data": {
      "text/markdown": [
       "![](https://tse1-mm.cn.bing.net/th/id/OET.938d4544da29427fa7278cb7c7351fb6?w=135&h=272&c=7&rs=1&o=5&pid=1.9)"
      ],
      "text/plain": [
       "<IPython.core.display.Markdown object>"
      ]
     },
     "metadata": {},
     "output_type": "display_data"
    },
    {
     "name": "stdout",
     "output_type": "stream",
     "text": [
      "https://tse1-mm.cn.bing.net/th/id/OET.609002688afe4145900fcf56bfc1728d?w=135&h=272&c=7&rs=1&o=5&pid=1.9\n"
     ]
    },
    {
     "data": {
      "text/markdown": [
       "![](https://tse1-mm.cn.bing.net/th/id/OET.609002688afe4145900fcf56bfc1728d?w=135&h=272&c=7&rs=1&o=5&pid=1.9)"
      ],
      "text/plain": [
       "<IPython.core.display.Markdown object>"
      ]
     },
     "metadata": {},
     "output_type": "display_data"
    },
    {
     "name": "stdout",
     "output_type": "stream",
     "text": [
      "https://tse1-mm.cn.bing.net/th/id/OET.3b155f97226d4ce3b8019ca75c37785c?w=135&h=272&c=7&rs=1&o=5&pid=1.9\n"
     ]
    },
    {
     "data": {
      "text/markdown": [
       "![](https://tse1-mm.cn.bing.net/th/id/OET.3b155f97226d4ce3b8019ca75c37785c?w=135&h=272&c=7&rs=1&o=5&pid=1.9)"
      ],
      "text/plain": [
       "<IPython.core.display.Markdown object>"
      ]
     },
     "metadata": {},
     "output_type": "display_data"
    },
    {
     "name": "stdout",
     "output_type": "stream",
     "text": [
      "https://tse1-mm.cn.bing.net/th/id/OET.fc7d18af572249f4815210592b083015?w=135&h=272&c=7&rs=1&o=5&pid=1.9\n"
     ]
    },
    {
     "data": {
      "text/markdown": [
       "![](https://tse1-mm.cn.bing.net/th/id/OET.fc7d18af572249f4815210592b083015?w=135&h=272&c=7&rs=1&o=5&pid=1.9)"
      ],
      "text/plain": [
       "<IPython.core.display.Markdown object>"
      ]
     },
     "metadata": {},
     "output_type": "display_data"
    },
    {
     "name": "stdout",
     "output_type": "stream",
     "text": [
      "https://tse1-mm.cn.bing.net/th/id/OET.dc7d64a2cf314b4cbaa1d8b9314734f7?w=135&h=135&c=7&rs=1&o=5&pid=1.9\n"
     ]
    },
    {
     "data": {
      "text/markdown": [
       "![](https://tse1-mm.cn.bing.net/th/id/OET.dc7d64a2cf314b4cbaa1d8b9314734f7?w=135&h=135&c=7&rs=1&o=5&pid=1.9)"
      ],
      "text/plain": [
       "<IPython.core.display.Markdown object>"
      ]
     },
     "metadata": {},
     "output_type": "display_data"
    },
    {
     "name": "stdout",
     "output_type": "stream",
     "text": [
      "https://tse1-mm.cn.bing.net/th/id/OET.f8cd4861bc504029a90ccc272bbc954d?w=135&h=135&c=7&rs=1&o=5&pid=1.9\n"
     ]
    },
    {
     "data": {
      "text/markdown": [
       "![](https://tse1-mm.cn.bing.net/th/id/OET.f8cd4861bc504029a90ccc272bbc954d?w=135&h=135&c=7&rs=1&o=5&pid=1.9)"
      ],
      "text/plain": [
       "<IPython.core.display.Markdown object>"
      ]
     },
     "metadata": {},
     "output_type": "display_data"
    },
    {
     "name": "stdout",
     "output_type": "stream",
     "text": [
      "https://tse1-mm.cn.bing.net/th/id/OET.5ca4829fee72427b8424d6aead35163a?w=135&h=135&c=7&rs=1&o=5&pid=1.9\n"
     ]
    },
    {
     "data": {
      "text/markdown": [
       "![](https://tse1-mm.cn.bing.net/th/id/OET.5ca4829fee72427b8424d6aead35163a?w=135&h=135&c=7&rs=1&o=5&pid=1.9)"
      ],
      "text/plain": [
       "<IPython.core.display.Markdown object>"
      ]
     },
     "metadata": {},
     "output_type": "display_data"
    },
    {
     "name": "stdout",
     "output_type": "stream",
     "text": [
      "https://tse1-mm.cn.bing.net/th/id/OET.f27e5b857f524c648726b803a44837a4?w=135&h=135&c=7&rs=1&o=5&pid=1.9\n"
     ]
    },
    {
     "data": {
      "text/markdown": [
       "![](https://tse1-mm.cn.bing.net/th/id/OET.f27e5b857f524c648726b803a44837a4?w=135&h=135&c=7&rs=1&o=5&pid=1.9)"
      ],
      "text/plain": [
       "<IPython.core.display.Markdown object>"
      ]
     },
     "metadata": {},
     "output_type": "display_data"
    },
    {
     "name": "stdout",
     "output_type": "stream",
     "text": [
      "https://tse1-mm.cn.bing.net/th/id/OET.d76a305be6db4c9e84c89ea26290b38a?w=272&h=272&c=7&rs=1&o=5&pid=1.9\n"
     ]
    },
    {
     "data": {
      "text/markdown": [
       "![](https://tse1-mm.cn.bing.net/th/id/OET.d76a305be6db4c9e84c89ea26290b38a?w=272&h=272&c=7&rs=1&o=5&pid=1.9)"
      ],
      "text/plain": [
       "<IPython.core.display.Markdown object>"
      ]
     },
     "metadata": {},
     "output_type": "display_data"
    },
    {
     "name": "stdout",
     "output_type": "stream",
     "text": [
      "https://tse1-mm.cn.bing.net/th/id/OET.18da11981db140b88154ab5771455563?w=135&h=272&c=7&rs=1&o=5&pid=1.9\n"
     ]
    },
    {
     "data": {
      "text/markdown": [
       "![](https://tse1-mm.cn.bing.net/th/id/OET.18da11981db140b88154ab5771455563?w=135&h=272&c=7&rs=1&o=5&pid=1.9)"
      ],
      "text/plain": [
       "<IPython.core.display.Markdown object>"
      ]
     },
     "metadata": {},
     "output_type": "display_data"
    },
    {
     "name": "stdout",
     "output_type": "stream",
     "text": [
      "https://tse1-mm.cn.bing.net/th/id/OET.f630c2fbb82147b98b1de22b73918a80?w=135&h=272&c=7&rs=1&o=5&pid=1.9\n"
     ]
    },
    {
     "data": {
      "text/markdown": [
       "![](https://tse1-mm.cn.bing.net/th/id/OET.f630c2fbb82147b98b1de22b73918a80?w=135&h=272&c=7&rs=1&o=5&pid=1.9)"
      ],
      "text/plain": [
       "<IPython.core.display.Markdown object>"
      ]
     },
     "metadata": {},
     "output_type": "display_data"
    },
    {
     "name": "stdout",
     "output_type": "stream",
     "text": [
      "https://tse1-mm.cn.bing.net/th/id/OET.8e621908c31741a0a92f5476c346b6a1?w=135&h=272&c=7&rs=1&o=5&pid=1.9\n"
     ]
    },
    {
     "data": {
      "text/markdown": [
       "![](https://tse1-mm.cn.bing.net/th/id/OET.8e621908c31741a0a92f5476c346b6a1?w=135&h=272&c=7&rs=1&o=5&pid=1.9)"
      ],
      "text/plain": [
       "<IPython.core.display.Markdown object>"
      ]
     },
     "metadata": {},
     "output_type": "display_data"
    },
    {
     "name": "stdout",
     "output_type": "stream",
     "text": [
      "https://tse1-mm.cn.bing.net/th/id/OET.ff87a75f1a114173b0612dbc4e1f8686?w=135&h=272&c=7&rs=1&o=5&pid=1.9\n"
     ]
    },
    {
     "data": {
      "text/markdown": [
       "![](https://tse1-mm.cn.bing.net/th/id/OET.ff87a75f1a114173b0612dbc4e1f8686?w=135&h=272&c=7&rs=1&o=5&pid=1.9)"
      ],
      "text/plain": [
       "<IPython.core.display.Markdown object>"
      ]
     },
     "metadata": {},
     "output_type": "display_data"
    },
    {
     "name": "stdout",
     "output_type": "stream",
     "text": [
      "https://tse1-mm.cn.bing.net/th/id/OET.641eeea17d2a4973b53e3c83b750772a?w=135&h=272&c=7&rs=1&o=5&pid=1.9\n"
     ]
    },
    {
     "data": {
      "text/markdown": [
       "![](https://tse1-mm.cn.bing.net/th/id/OET.641eeea17d2a4973b53e3c83b750772a?w=135&h=272&c=7&rs=1&o=5&pid=1.9)"
      ],
      "text/plain": [
       "<IPython.core.display.Markdown object>"
      ]
     },
     "metadata": {},
     "output_type": "display_data"
    },
    {
     "name": "stdout",
     "output_type": "stream",
     "text": [
      "https://tse1-mm.cn.bing.net/th/id/OET.5435c90c0a8b4deab3971d04a029a8c4?w=135&h=272&c=7&rs=1&o=5&pid=1.9\n"
     ]
    },
    {
     "data": {
      "text/markdown": [
       "![](https://tse1-mm.cn.bing.net/th/id/OET.5435c90c0a8b4deab3971d04a029a8c4?w=135&h=272&c=7&rs=1&o=5&pid=1.9)"
      ],
      "text/plain": [
       "<IPython.core.display.Markdown object>"
      ]
     },
     "metadata": {},
     "output_type": "display_data"
    },
    {
     "name": "stdout",
     "output_type": "stream",
     "text": [
      "https://tse1-mm.cn.bing.net/th/id/OET.d69bc419d1714d3a8dbde7cb56a21d3a?w=135&h=135&c=7&rs=1&o=5&pid=1.9\n"
     ]
    },
    {
     "data": {
      "text/markdown": [
       "![](https://tse1-mm.cn.bing.net/th/id/OET.d69bc419d1714d3a8dbde7cb56a21d3a?w=135&h=135&c=7&rs=1&o=5&pid=1.9)"
      ],
      "text/plain": [
       "<IPython.core.display.Markdown object>"
      ]
     },
     "metadata": {},
     "output_type": "display_data"
    },
    {
     "name": "stdout",
     "output_type": "stream",
     "text": [
      "https://tse1-mm.cn.bing.net/th/id/OET.509714ed371341c2ae7538b1645a14c7?w=135&h=135&c=7&rs=1&o=5&pid=1.9\n"
     ]
    },
    {
     "data": {
      "text/markdown": [
       "![](https://tse1-mm.cn.bing.net/th/id/OET.509714ed371341c2ae7538b1645a14c7?w=135&h=135&c=7&rs=1&o=5&pid=1.9)"
      ],
      "text/plain": [
       "<IPython.core.display.Markdown object>"
      ]
     },
     "metadata": {},
     "output_type": "display_data"
    },
    {
     "name": "stdout",
     "output_type": "stream",
     "text": [
      "https://tse1-mm.cn.bing.net/th/id/OET.fa414e4eb8aa4969b1e7160c78811e1a?w=135&h=135&c=7&rs=1&o=5&pid=1.9\n"
     ]
    },
    {
     "data": {
      "text/markdown": [
       "![](https://tse1-mm.cn.bing.net/th/id/OET.fa414e4eb8aa4969b1e7160c78811e1a?w=135&h=135&c=7&rs=1&o=5&pid=1.9)"
      ],
      "text/plain": [
       "<IPython.core.display.Markdown object>"
      ]
     },
     "metadata": {},
     "output_type": "display_data"
    },
    {
     "name": "stdout",
     "output_type": "stream",
     "text": [
      "https://tse1-mm.cn.bing.net/th/id/OET.68a825be6b82468e87d594ca5cea921d?w=135&h=135&c=7&rs=1&o=5&pid=1.9\n"
     ]
    },
    {
     "data": {
      "text/markdown": [
       "![](https://tse1-mm.cn.bing.net/th/id/OET.68a825be6b82468e87d594ca5cea921d?w=135&h=135&c=7&rs=1&o=5&pid=1.9)"
      ],
      "text/plain": [
       "<IPython.core.display.Markdown object>"
      ]
     },
     "metadata": {},
     "output_type": "display_data"
    },
    {
     "name": "stdout",
     "output_type": "stream",
     "text": [
      "https://tse1-mm.cn.bing.net/th/id/OET.6570bfa2065f4f2c8074b99429c29e74?w=272&h=272&c=7&rs=1&o=5&pid=1.9\n"
     ]
    },
    {
     "data": {
      "text/markdown": [
       "![](https://tse1-mm.cn.bing.net/th/id/OET.6570bfa2065f4f2c8074b99429c29e74?w=272&h=272&c=7&rs=1&o=5&pid=1.9)"
      ],
      "text/plain": [
       "<IPython.core.display.Markdown object>"
      ]
     },
     "metadata": {},
     "output_type": "display_data"
    },
    {
     "name": "stdout",
     "output_type": "stream",
     "text": [
      "https://tse1-mm.cn.bing.net/th/id/OET.548058d6281c4ffa9d571f839910f32a?w=272&h=135&c=7&rs=1&o=5&pid=1.9\n"
     ]
    },
    {
     "data": {
      "text/markdown": [
       "![](https://tse1-mm.cn.bing.net/th/id/OET.548058d6281c4ffa9d571f839910f32a?w=272&h=135&c=7&rs=1&o=5&pid=1.9)"
      ],
      "text/plain": [
       "<IPython.core.display.Markdown object>"
      ]
     },
     "metadata": {},
     "output_type": "display_data"
    },
    {
     "name": "stdout",
     "output_type": "stream",
     "text": [
      "https://tse1-mm.cn.bing.net/th/id/OET.80281b69d95b48bc8a466fcdffad5173?w=272&h=135&c=7&rs=1&o=5&pid=1.9\n"
     ]
    },
    {
     "data": {
      "text/markdown": [
       "![](https://tse1-mm.cn.bing.net/th/id/OET.80281b69d95b48bc8a466fcdffad5173?w=272&h=135&c=7&rs=1&o=5&pid=1.9)"
      ],
      "text/plain": [
       "<IPython.core.display.Markdown object>"
      ]
     },
     "metadata": {},
     "output_type": "display_data"
    },
    {
     "name": "stdout",
     "output_type": "stream",
     "text": [
      "https://tse1-mm.cn.bing.net/th/id/OET.1eadcb1402d74bb295fff97db1bf6600?w=272&h=135&c=7&rs=1&o=5&pid=1.9\n"
     ]
    },
    {
     "data": {
      "text/markdown": [
       "![](https://tse1-mm.cn.bing.net/th/id/OET.1eadcb1402d74bb295fff97db1bf6600?w=272&h=135&c=7&rs=1&o=5&pid=1.9)"
      ],
      "text/plain": [
       "<IPython.core.display.Markdown object>"
      ]
     },
     "metadata": {},
     "output_type": "display_data"
    },
    {
     "name": "stdout",
     "output_type": "stream",
     "text": [
      "https://tse1-mm.cn.bing.net/th/id/OET.de53e76d3f3d4a479eb8739b74f81440?w=272&h=135&c=7&rs=1&o=5&pid=1.9\n"
     ]
    },
    {
     "data": {
      "text/markdown": [
       "![](https://tse1-mm.cn.bing.net/th/id/OET.de53e76d3f3d4a479eb8739b74f81440?w=272&h=135&c=7&rs=1&o=5&pid=1.9)"
      ],
      "text/plain": [
       "<IPython.core.display.Markdown object>"
      ]
     },
     "metadata": {},
     "output_type": "display_data"
    },
    {
     "name": "stdout",
     "output_type": "stream",
     "text": [
      "https://tse1-mm.cn.bing.net/th/id/OET.e19d34f3918d4fa982966ba08fd4c07d?w=272&h=135&c=7&rs=1&o=5&pid=1.9\n"
     ]
    },
    {
     "data": {
      "text/markdown": [
       "![](https://tse1-mm.cn.bing.net/th/id/OET.e19d34f3918d4fa982966ba08fd4c07d?w=272&h=135&c=7&rs=1&o=5&pid=1.9)"
      ],
      "text/plain": [
       "<IPython.core.display.Markdown object>"
      ]
     },
     "metadata": {},
     "output_type": "display_data"
    },
    {
     "name": "stdout",
     "output_type": "stream",
     "text": [
      "https://tse1-mm.cn.bing.net/th/id/OET.0a8ed06811b549b48a1917ad0ec2e055?w=272&h=135&c=7&rs=1&o=5&pid=1.9\n"
     ]
    },
    {
     "data": {
      "text/markdown": [
       "![](https://tse1-mm.cn.bing.net/th/id/OET.0a8ed06811b549b48a1917ad0ec2e055?w=272&h=135&c=7&rs=1&o=5&pid=1.9)"
      ],
      "text/plain": [
       "<IPython.core.display.Markdown object>"
      ]
     },
     "metadata": {},
     "output_type": "display_data"
    },
    {
     "name": "stdout",
     "output_type": "stream",
     "text": [
      "https://tse1-mm.cn.bing.net/th/id/OET.4ef5bf6f0ae1423abe844d8242f55a80?w=135&h=135&c=7&rs=1&o=5&pid=1.9\n"
     ]
    },
    {
     "data": {
      "text/markdown": [
       "![](https://tse1-mm.cn.bing.net/th/id/OET.4ef5bf6f0ae1423abe844d8242f55a80?w=135&h=135&c=7&rs=1&o=5&pid=1.9)"
      ],
      "text/plain": [
       "<IPython.core.display.Markdown object>"
      ]
     },
     "metadata": {},
     "output_type": "display_data"
    },
    {
     "name": "stdout",
     "output_type": "stream",
     "text": [
      "https://tse1-mm.cn.bing.net/th/id/OET.3c15354dfdd047ab93fe96f196ad07cb?w=135&h=135&c=7&rs=1&o=5&pid=1.9\n"
     ]
    },
    {
     "data": {
      "text/markdown": [
       "![](https://tse1-mm.cn.bing.net/th/id/OET.3c15354dfdd047ab93fe96f196ad07cb?w=135&h=135&c=7&rs=1&o=5&pid=1.9)"
      ],
      "text/plain": [
       "<IPython.core.display.Markdown object>"
      ]
     },
     "metadata": {},
     "output_type": "display_data"
    },
    {
     "name": "stdout",
     "output_type": "stream",
     "text": [
      "https://tse1-mm.cn.bing.net/th/id/OET.014e47747fd744729136663e06d30322?w=135&h=135&c=7&rs=1&o=5&pid=1.9\n"
     ]
    },
    {
     "data": {
      "text/markdown": [
       "![](https://tse1-mm.cn.bing.net/th/id/OET.014e47747fd744729136663e06d30322?w=135&h=135&c=7&rs=1&o=5&pid=1.9)"
      ],
      "text/plain": [
       "<IPython.core.display.Markdown object>"
      ]
     },
     "metadata": {},
     "output_type": "display_data"
    },
    {
     "name": "stdout",
     "output_type": "stream",
     "text": [
      "https://tse1-mm.cn.bing.net/th/id/OET.311ab2c108ce49efb855fed17cae87f8?w=135&h=135&c=7&rs=1&o=5&pid=1.9\n"
     ]
    },
    {
     "data": {
      "text/markdown": [
       "![](https://tse1-mm.cn.bing.net/th/id/OET.311ab2c108ce49efb855fed17cae87f8?w=135&h=135&c=7&rs=1&o=5&pid=1.9)"
      ],
      "text/plain": [
       "<IPython.core.display.Markdown object>"
      ]
     },
     "metadata": {},
     "output_type": "display_data"
    },
    {
     "name": "stdout",
     "output_type": "stream",
     "text": [
      "https://tse1-mm.cn.bing.net/th/id/OET.13be13dfa85948e49ee8fbc70403d6c5?w=272&h=272&c=7&rs=1&o=5&pid=1.9\n"
     ]
    },
    {
     "data": {
      "text/markdown": [
       "![](https://tse1-mm.cn.bing.net/th/id/OET.13be13dfa85948e49ee8fbc70403d6c5?w=272&h=272&c=7&rs=1&o=5&pid=1.9)"
      ],
      "text/plain": [
       "<IPython.core.display.Markdown object>"
      ]
     },
     "metadata": {},
     "output_type": "display_data"
    },
    {
     "name": "stdout",
     "output_type": "stream",
     "text": [
      "https://tse1-mm.cn.bing.net/th/id/OET.c278f8963dfe49ff9d896dac6cd4db70?w=272&h=135&c=7&rs=1&o=5&pid=1.9\n"
     ]
    },
    {
     "data": {
      "text/markdown": [
       "![](https://tse1-mm.cn.bing.net/th/id/OET.c278f8963dfe49ff9d896dac6cd4db70?w=272&h=135&c=7&rs=1&o=5&pid=1.9)"
      ],
      "text/plain": [
       "<IPython.core.display.Markdown object>"
      ]
     },
     "metadata": {},
     "output_type": "display_data"
    },
    {
     "name": "stdout",
     "output_type": "stream",
     "text": [
      "https://tse1-mm.cn.bing.net/th/id/OET.e662e33e5f61405ea35606f21bebd306?w=272&h=135&c=7&rs=1&o=5&pid=1.9\n"
     ]
    },
    {
     "data": {
      "text/markdown": [
       "![](https://tse1-mm.cn.bing.net/th/id/OET.e662e33e5f61405ea35606f21bebd306?w=272&h=135&c=7&rs=1&o=5&pid=1.9)"
      ],
      "text/plain": [
       "<IPython.core.display.Markdown object>"
      ]
     },
     "metadata": {},
     "output_type": "display_data"
    },
    {
     "name": "stdout",
     "output_type": "stream",
     "text": [
      "https://tse1-mm.cn.bing.net/th/id/OET.28fd0f0ab6344e5cb21400966cb1bd4d?w=272&h=135&c=7&rs=1&o=5&pid=1.9\n"
     ]
    },
    {
     "data": {
      "text/markdown": [
       "![](https://tse1-mm.cn.bing.net/th/id/OET.28fd0f0ab6344e5cb21400966cb1bd4d?w=272&h=135&c=7&rs=1&o=5&pid=1.9)"
      ],
      "text/plain": [
       "<IPython.core.display.Markdown object>"
      ]
     },
     "metadata": {},
     "output_type": "display_data"
    },
    {
     "name": "stdout",
     "output_type": "stream",
     "text": [
      "https://tse1-mm.cn.bing.net/th/id/OET.925b40d875fa4de792eafca813066152?w=272&h=135&c=7&rs=1&o=5&pid=1.9\n"
     ]
    },
    {
     "data": {
      "text/markdown": [
       "![](https://tse1-mm.cn.bing.net/th/id/OET.925b40d875fa4de792eafca813066152?w=272&h=135&c=7&rs=1&o=5&pid=1.9)"
      ],
      "text/plain": [
       "<IPython.core.display.Markdown object>"
      ]
     },
     "metadata": {},
     "output_type": "display_data"
    },
    {
     "name": "stdout",
     "output_type": "stream",
     "text": [
      "https://tse1-mm.cn.bing.net/th/id/OET.52f4abd4696b4130953af7affa14f8a8?w=272&h=135&c=7&rs=1&o=5&pid=1.9\n"
     ]
    },
    {
     "data": {
      "text/markdown": [
       "![](https://tse1-mm.cn.bing.net/th/id/OET.52f4abd4696b4130953af7affa14f8a8?w=272&h=135&c=7&rs=1&o=5&pid=1.9)"
      ],
      "text/plain": [
       "<IPython.core.display.Markdown object>"
      ]
     },
     "metadata": {},
     "output_type": "display_data"
    },
    {
     "name": "stdout",
     "output_type": "stream",
     "text": [
      "https://tse1-mm.cn.bing.net/th/id/OET.e709992723d94bfcbdea2455d661def0?w=272&h=135&c=7&rs=1&o=5&pid=1.9\n"
     ]
    },
    {
     "data": {
      "text/markdown": [
       "![](https://tse1-mm.cn.bing.net/th/id/OET.e709992723d94bfcbdea2455d661def0?w=272&h=135&c=7&rs=1&o=5&pid=1.9)"
      ],
      "text/plain": [
       "<IPython.core.display.Markdown object>"
      ]
     },
     "metadata": {},
     "output_type": "display_data"
    },
    {
     "name": "stdout",
     "output_type": "stream",
     "text": [
      "https://tse1-mm.cn.bing.net/th/id/OET.8f8f61c7a67944758e1e85de7c4cfabf?w=135&h=135&c=7&rs=1&o=5&pid=1.9\n"
     ]
    },
    {
     "data": {
      "text/markdown": [
       "![](https://tse1-mm.cn.bing.net/th/id/OET.8f8f61c7a67944758e1e85de7c4cfabf?w=135&h=135&c=7&rs=1&o=5&pid=1.9)"
      ],
      "text/plain": [
       "<IPython.core.display.Markdown object>"
      ]
     },
     "metadata": {},
     "output_type": "display_data"
    },
    {
     "name": "stdout",
     "output_type": "stream",
     "text": [
      "https://tse1-mm.cn.bing.net/th/id/OET.d8fd1f230e9e49e397515b081766c2e2?w=135&h=135&c=7&rs=1&o=5&pid=1.9\n"
     ]
    },
    {
     "data": {
      "text/markdown": [
       "![](https://tse1-mm.cn.bing.net/th/id/OET.d8fd1f230e9e49e397515b081766c2e2?w=135&h=135&c=7&rs=1&o=5&pid=1.9)"
      ],
      "text/plain": [
       "<IPython.core.display.Markdown object>"
      ]
     },
     "metadata": {},
     "output_type": "display_data"
    },
    {
     "name": "stdout",
     "output_type": "stream",
     "text": [
      "https://tse1-mm.cn.bing.net/th/id/OET.bc987d4922c64b6a8c448cc6b2cb99c1?w=135&h=135&c=7&rs=1&o=5&pid=1.9\n"
     ]
    },
    {
     "data": {
      "text/markdown": [
       "![](https://tse1-mm.cn.bing.net/th/id/OET.bc987d4922c64b6a8c448cc6b2cb99c1?w=135&h=135&c=7&rs=1&o=5&pid=1.9)"
      ],
      "text/plain": [
       "<IPython.core.display.Markdown object>"
      ]
     },
     "metadata": {},
     "output_type": "display_data"
    },
    {
     "name": "stdout",
     "output_type": "stream",
     "text": [
      "https://tse1-mm.cn.bing.net/th/id/OET.a878a7ad236549fe89ec1eb1b1bffd0b?w=135&h=135&c=7&rs=1&o=5&pid=1.9\n"
     ]
    },
    {
     "data": {
      "text/markdown": [
       "![](https://tse1-mm.cn.bing.net/th/id/OET.a878a7ad236549fe89ec1eb1b1bffd0b?w=135&h=135&c=7&rs=1&o=5&pid=1.9)"
      ],
      "text/plain": [
       "<IPython.core.display.Markdown object>"
      ]
     },
     "metadata": {},
     "output_type": "display_data"
    },
    {
     "name": "stdout",
     "output_type": "stream",
     "text": [
      "https://tse1-mm.cn.bing.net/th/id/OET.e467266179b6400296e48a979d03e696?w=272&h=272&c=7&rs=1&o=5&pid=1.9\n"
     ]
    },
    {
     "data": {
      "text/markdown": [
       "![](https://tse1-mm.cn.bing.net/th/id/OET.e467266179b6400296e48a979d03e696?w=272&h=272&c=7&rs=1&o=5&pid=1.9)"
      ],
      "text/plain": [
       "<IPython.core.display.Markdown object>"
      ]
     },
     "metadata": {},
     "output_type": "display_data"
    },
    {
     "name": "stdout",
     "output_type": "stream",
     "text": [
      "https://tse1-mm.cn.bing.net/th/id/OET.9c8f4475433546bb9524895b1634db32?w=272&h=135&c=7&rs=1&o=5&pid=1.9\n"
     ]
    },
    {
     "data": {
      "text/markdown": [
       "![](https://tse1-mm.cn.bing.net/th/id/OET.9c8f4475433546bb9524895b1634db32?w=272&h=135&c=7&rs=1&o=5&pid=1.9)"
      ],
      "text/plain": [
       "<IPython.core.display.Markdown object>"
      ]
     },
     "metadata": {},
     "output_type": "display_data"
    },
    {
     "name": "stdout",
     "output_type": "stream",
     "text": [
      "https://tse1-mm.cn.bing.net/th/id/OET.b910d62ca7224b48b799485ff633fbe9?w=272&h=135&c=7&rs=1&o=5&pid=1.9\n"
     ]
    },
    {
     "data": {
      "text/markdown": [
       "![](https://tse1-mm.cn.bing.net/th/id/OET.b910d62ca7224b48b799485ff633fbe9?w=272&h=135&c=7&rs=1&o=5&pid=1.9)"
      ],
      "text/plain": [
       "<IPython.core.display.Markdown object>"
      ]
     },
     "metadata": {},
     "output_type": "display_data"
    },
    {
     "name": "stdout",
     "output_type": "stream",
     "text": [
      "https://tse1-mm.cn.bing.net/th/id/OET.d88228c37ad848e4975c4725cdb24983?w=272&h=135&c=7&rs=1&o=5&pid=1.9\n"
     ]
    },
    {
     "data": {
      "text/markdown": [
       "![](https://tse1-mm.cn.bing.net/th/id/OET.d88228c37ad848e4975c4725cdb24983?w=272&h=135&c=7&rs=1&o=5&pid=1.9)"
      ],
      "text/plain": [
       "<IPython.core.display.Markdown object>"
      ]
     },
     "metadata": {},
     "output_type": "display_data"
    },
    {
     "name": "stdout",
     "output_type": "stream",
     "text": [
      "https://tse1-mm.cn.bing.net/th/id/OET.c0beeb3881cc4f7fa28f0487ec2da039?w=272&h=135&c=7&rs=1&o=5&pid=1.9\n"
     ]
    },
    {
     "data": {
      "text/markdown": [
       "![](https://tse1-mm.cn.bing.net/th/id/OET.c0beeb3881cc4f7fa28f0487ec2da039?w=272&h=135&c=7&rs=1&o=5&pid=1.9)"
      ],
      "text/plain": [
       "<IPython.core.display.Markdown object>"
      ]
     },
     "metadata": {},
     "output_type": "display_data"
    },
    {
     "name": "stdout",
     "output_type": "stream",
     "text": [
      "https://tse1-mm.cn.bing.net/th/id/OET.45d8eb27b73b43719df3ea23568cc299?w=272&h=135&c=7&rs=1&o=5&pid=1.9\n"
     ]
    },
    {
     "data": {
      "text/markdown": [
       "![](https://tse1-mm.cn.bing.net/th/id/OET.45d8eb27b73b43719df3ea23568cc299?w=272&h=135&c=7&rs=1&o=5&pid=1.9)"
      ],
      "text/plain": [
       "<IPython.core.display.Markdown object>"
      ]
     },
     "metadata": {},
     "output_type": "display_data"
    },
    {
     "name": "stdout",
     "output_type": "stream",
     "text": [
      "https://tse1-mm.cn.bing.net/th/id/OET.7ce6dc322d2d4ff0970c36b17fcf363c?w=272&h=135&c=7&rs=1&o=5&pid=1.9\n"
     ]
    },
    {
     "data": {
      "text/markdown": [
       "![](https://tse1-mm.cn.bing.net/th/id/OET.7ce6dc322d2d4ff0970c36b17fcf363c?w=272&h=135&c=7&rs=1&o=5&pid=1.9)"
      ],
      "text/plain": [
       "<IPython.core.display.Markdown object>"
      ]
     },
     "metadata": {},
     "output_type": "display_data"
    },
    {
     "name": "stdout",
     "output_type": "stream",
     "text": [
      "https://tse1-mm.cn.bing.net/th/id/OET.ecf975724f74437aa9f9ad1463df0cb0?w=135&h=135&c=7&rs=1&o=5&pid=1.9\n"
     ]
    },
    {
     "data": {
      "text/markdown": [
       "![](https://tse1-mm.cn.bing.net/th/id/OET.ecf975724f74437aa9f9ad1463df0cb0?w=135&h=135&c=7&rs=1&o=5&pid=1.9)"
      ],
      "text/plain": [
       "<IPython.core.display.Markdown object>"
      ]
     },
     "metadata": {},
     "output_type": "display_data"
    },
    {
     "name": "stdout",
     "output_type": "stream",
     "text": [
      "https://tse1-mm.cn.bing.net/th/id/OET.28852aa91ef54138a6945ef6f0954986?w=135&h=135&c=7&rs=1&o=5&pid=1.9\n"
     ]
    },
    {
     "data": {
      "text/markdown": [
       "![](https://tse1-mm.cn.bing.net/th/id/OET.28852aa91ef54138a6945ef6f0954986?w=135&h=135&c=7&rs=1&o=5&pid=1.9)"
      ],
      "text/plain": [
       "<IPython.core.display.Markdown object>"
      ]
     },
     "metadata": {},
     "output_type": "display_data"
    },
    {
     "name": "stdout",
     "output_type": "stream",
     "text": [
      "https://tse1-mm.cn.bing.net/th/id/OET.736ec8974a93411487f3231eec4923bb?w=135&h=135&c=7&rs=1&o=5&pid=1.9\n"
     ]
    },
    {
     "data": {
      "text/markdown": [
       "![](https://tse1-mm.cn.bing.net/th/id/OET.736ec8974a93411487f3231eec4923bb?w=135&h=135&c=7&rs=1&o=5&pid=1.9)"
      ],
      "text/plain": [
       "<IPython.core.display.Markdown object>"
      ]
     },
     "metadata": {},
     "output_type": "display_data"
    },
    {
     "name": "stdout",
     "output_type": "stream",
     "text": [
      "https://tse1-mm.cn.bing.net/th/id/OET.8cccc6ae58de402aabbc4611e041741f?w=135&h=135&c=7&rs=1&o=5&pid=1.9\n"
     ]
    },
    {
     "data": {
      "text/markdown": [
       "![](https://tse1-mm.cn.bing.net/th/id/OET.8cccc6ae58de402aabbc4611e041741f?w=135&h=135&c=7&rs=1&o=5&pid=1.9)"
      ],
      "text/plain": [
       "<IPython.core.display.Markdown object>"
      ]
     },
     "metadata": {},
     "output_type": "display_data"
    },
    {
     "name": "stdout",
     "output_type": "stream",
     "text": [
      "/rs/5h/L6/ic/4907366b/da274d75.png\n"
     ]
    },
    {
     "data": {
      "text/markdown": [
       "![](/rs/5h/L6/ic/4907366b/da274d75.png)"
      ],
      "text/plain": [
       "<IPython.core.display.Markdown object>"
      ]
     },
     "metadata": {},
     "output_type": "display_data"
    }
   ],
   "source": [
    "from requests_html import HTMLSession\n",
    "\n",
    "session = HTMLSession()\n",
    "\n",
    "r = session.get(\"https://cn.bing.com/images/trending\")\n",
    "\n",
    "# 通过xpath找到工作标签\n",
    "items = r.html.xpath('//img/@src')\n",
    "\n",
    "for url in items:\n",
    "    print(url)  # 获得图片src url\n",
    "    display(Markdown('![]({url})'.format(url=url)))  # 展示图片    "
   ]
  },
  {
   "cell_type": "markdown",
   "metadata": {
    "slideshow": {
     "slide_type": "slide"
    }
   },
   "source": [
    "\n",
    "## 总结你学到什麽新东西？\n",
    "* A\n",
    "* B\n",
    "* C\n",
    "\n",
    "\n",
    "## 总结你想会做什麽？\n",
    "* A\n",
    "* B\n",
    "* C\n"
   ]
  },
  {
   "cell_type": "markdown",
   "metadata": {
    "slideshow": {
     "slide_type": "fragment"
    }
   },
   "source": [
    "---\n",
    "结束\n",
    "# 小结 😍😲😙🤭😱"
   ]
  },
  {
   "cell_type": "code",
   "execution_count": null,
   "metadata": {},
   "outputs": [],
   "source": []
  }
 ],
 "metadata": {
  "celltoolbar": "Slideshow",
  "kernelspec": {
   "display_name": "Python 3",
   "language": "python",
   "name": "python3"
  },
  "language_info": {
   "codemirror_mode": {
    "name": "ipython",
    "version": 3
   },
   "file_extension": ".py",
   "mimetype": "text/x-python",
   "name": "python",
   "nbconvert_exporter": "python",
   "pygments_lexer": "ipython3",
   "version": "3.7.5"
  }
 },
 "nbformat": 4,
 "nbformat_minor": 2
}
